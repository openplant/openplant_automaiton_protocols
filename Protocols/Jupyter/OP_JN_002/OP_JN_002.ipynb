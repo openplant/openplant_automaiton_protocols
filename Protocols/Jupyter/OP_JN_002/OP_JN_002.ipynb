{
 "cells": [
  {
   "cell_type": "markdown",
   "metadata": {},
   "source": [
    "# DNA extraction of  96-well cultures with magnetic beads\n",
    "\n",
    "## Protocol Initialization\n",
    "Ensure you have calibrated the pipettes before doing this protocol"
   ]
  },
  {
   "cell_type": "code",
   "execution_count": 1,
   "metadata": {},
   "outputs": [],
   "source": [
    "from opentrons import execute, simulate\n",
    "import json\n",
    "import time"
   ]
  },
  {
   "cell_type": "markdown",
   "metadata": {},
   "source": [
    "Use one of the code lines below for simulation or execution mode:\n",
    "\n",
    "**Simulation mode**\n",
    "```\n",
    "protocol = simulate.get_protocol_api('2.13')\n",
    "```\n",
    "\n",
    "\n",
    "\n",
    "**Execution mode**\n",
    "```\n",
    "protocol = execute.get_protocol_api('2.13')\n",
    "```"
   ]
  },
  {
   "cell_type": "code",
   "execution_count": 2,
   "metadata": {},
   "outputs": [
    {
     "name": "stderr",
     "output_type": "stream",
     "text": [
      "Failed to initialize character device, will not be able to control gpios (lights, button, smoothiekill, smoothie reset). Only one connection can be made to the gpios at a time. If you need to control gpios, first stop the robot server with systemctl stop opentrons-robot-server. Until you restart the server with systemctl start opentrons-robot-server, you will be unable to control the robot using the Opentrons app.\n"
     ]
    }
   ],
   "source": [
    "protocol = simulate.get_protocol_api('2.12')"
   ]
  },
  {
   "cell_type": "code",
   "execution_count": 3,
   "metadata": {},
   "outputs": [
    {
     "name": "stderr",
     "output_type": "stream",
     "text": [
      "Out of bounds move: X=(418.00000000000006 motor controller, 418.54571439077444 deck) too high for limit 418.0\n",
      "Out of bounds move: X=(418.00000000000006 motor controller, 418.54571439077444 deck) too high for limit 418.0\n"
     ]
    }
   ],
   "source": [
    "protocol.home()"
   ]
  },
  {
   "cell_type": "markdown",
   "metadata": {},
   "source": [
    "## Declaring Labware\n",
    "- **Right mount**: An 8-channel p300 pipette\n",
    "- **Slot 1**: 12-well reservoir with buffers\n",
    "    - Well 1: Lysis buffer\n",
    "    - Well 2: Neutralization buffer\n",
    "    - Well 3: Wash buffer\n",
    "    - Well 4: Ethanol\n",
    "    - Well 5: Elution Buffer\n",
    "- **Slot 4**: 96-deepwell plate (square wells) with ressuspended bacterial cell pellets\n",
    "- **Slot 7**: Magnetic module with 96-deepwell plate (square wells) with 100uL of magnetic beads\n",
    "- **Slot 9**: Output plate in 96-well format\n",
    "- **Slot 10**: 1-well reservoir for buffer waste\n",
    "- **Slots 2, 3**: Tipracks for p300\n",
    "\n",
    "Replace with appropriate labware codes in the cell below if needed\n",
    "If you need to use custom labware, use our [Jupyter Notebook protocols tutorial](https://openplant.github.io/openplant_automation_protocols/Tutorials/Jupyter%20Notebooks/)"
   ]
  },
  {
   "cell_type": "code",
   "execution_count": 4,
   "metadata": {},
   "outputs": [],
   "source": [
    "# Set labware\n",
    "with open('custom_labware/eppendorf_96_wellplate_2ml_deep.json') as labware_file:\n",
    "    labware_def = json.load(labware_file)\n",
    "    plate_96 = protocol.load_labware_from_definition(labware_def, 4)\n",
    "\n",
    "plate_out = protocol.load_labware('biorad_96_wellplate_200ul_pcr', '9')\n",
    "\n",
    "waste = protocol.load_labware('nest_1_reservoir_195ml', '4')\n",
    "\n",
    "with open ('custom_labware/enzymax_12_reservoir_20ml.json') as labware_file:\n",
    "    labware_def = json.load(labware_file)\n",
    "    liquids_reservoir = protocol.load_labware_from_definition(labware_def, 1)\n",
    "    \n",
    "tipracks_300 = [protocol.load_labware('opentrons_96_tiprack_300ul', '2'),\n",
    "               protocol.load_labware('opentrons_96_tiprack_300ul', '3')]\n",
    "\n",
    "p300 = protocol.load_instrument('p300_multi_gen2', 'right', tip_racks=tipracks_300)\n",
    "\n",
    "mag_module = protocol.load_module(\"magnetic module\", '7')\n",
    "with open('custom_labware/eppendorf_96_wellplate_2ml_deep.json') as labware_file:\n",
    "    labware_def = json.load(labware_file)\n",
    "    mag_plate = mag_module.load_labware_from_definition(labware_def, 7)"
   ]
  },
  {
   "cell_type": "markdown",
   "metadata": {},
   "source": [
    "# Define the number of samples here\n",
    "- Run the next cell and fill out the prompts\n",
    "- You can use from 1 to 96 samples."
   ]
  },
  {
   "cell_type": "code",
   "execution_count": 6,
   "metadata": {},
   "outputs": [],
   "source": [
    "sample_no = 16\n",
    "\n",
    "\n",
    "col_no = 1+(sample_no-1)//8\n",
    "columns = plate_96.rows()[0][:col_no]\n",
    "lysis_buff = liquids_reservoir['A1']\n",
    "neut_buff = liquids_reservoir['A2']\n",
    "wash_buff = liquids_reservoir['A3']\n",
    "ethanol = liquids_reservoir['A4']\n",
    "elut_buff = liquids_reservoir['A5']"
   ]
  },
  {
   "cell_type": "markdown",
   "metadata": {},
   "source": [
    "## Labware Calibration\n",
    "\n",
    "Change the x, y, and z variables (**in mm**) in the \"set_offset\" functions and run each cell repeatedly until the positioning is correct for that piece of labware. You will have to use a \"dummy\" plate to calibrate the labware that is not on the deck yet (competent cells).\n",
    "\n",
    "### Tipracks:"
   ]
  },
  {
   "cell_type": "code",
   "execution_count": 7,
   "metadata": {},
   "outputs": [],
   "source": [
    "protocol.comment('-- CALIBRATION --')"
   ]
  },
  {
   "cell_type": "code",
   "execution_count": 8,
   "metadata": {},
   "outputs": [
    {
     "name": "stderr",
     "output_type": "stream",
     "text": [
      "Out of bounds move: X=(418.00000000000006 motor controller, 418.54571439077444 deck) too high for limit 418.0\n"
     ]
    },
    {
     "data": {
      "text/plain": [
       "<InstrumentContext: p300_multi_v2.1 in RIGHT>"
      ]
     },
     "execution_count": 8,
     "metadata": {},
     "output_type": "execute_result"
    }
   ],
   "source": [
    "# Calibrate tiprack for p300. Re-run calibration cell with different numbers if needed\n",
    "tipracks_300[0].set_offset(x=0.7, y=0.4, z=0.)\n",
    "p300.move_to(tipracks_300[0]['A1'].top())"
   ]
  },
  {
   "cell_type": "code",
   "execution_count": 9,
   "metadata": {},
   "outputs": [
    {
     "data": {
      "text/plain": [
       "<InstrumentContext: p300_multi_v2.1 in RIGHT>"
      ]
     },
     "execution_count": 9,
     "metadata": {},
     "output_type": "execute_result"
    }
   ],
   "source": [
    "# Calibrate tiprack for p300. Re-run calibration cell with different numbers if needed\n",
    "tipracks_300[1].set_offset(x=0.7, y=0.6, z=0.)\n",
    "p300.move_to(tipracks_300[1]['A1'].top())"
   ]
  },
  {
   "cell_type": "markdown",
   "metadata": {},
   "source": [
    "### Plates/Racks:"
   ]
  },
  {
   "cell_type": "code",
   "execution_count": 10,
   "metadata": {},
   "outputs": [
    {
     "data": {
      "text/plain": [
       "<InstrumentContext: p300_multi_v2.1 in RIGHT>"
      ]
     },
     "execution_count": 10,
     "metadata": {},
     "output_type": "execute_result"
    }
   ],
   "source": [
    "p300.pick_up_tip()"
   ]
  },
  {
   "cell_type": "code",
   "execution_count": 11,
   "metadata": {},
   "outputs": [
    {
     "data": {
      "text/plain": [
       "<InstrumentContext: p300_multi_v2.1 in RIGHT>"
      ]
     },
     "execution_count": 11,
     "metadata": {},
     "output_type": "execute_result"
    }
   ],
   "source": [
    "# Calibrate remaining labware. Re-run calibration cells with different numbers if needed\n",
    "plate_96.set_offset(x=0.0, y=0.5, z=0.7)\n",
    "p300.move_to(plate_96['A1'].top())"
   ]
  },
  {
   "cell_type": "code",
   "execution_count": 12,
   "metadata": {},
   "outputs": [
    {
     "data": {
      "text/plain": [
       "<InstrumentContext: p300_multi_v2.1 in RIGHT>"
      ]
     },
     "execution_count": 12,
     "metadata": {},
     "output_type": "execute_result"
    }
   ],
   "source": [
    "liquids_reservoir.set_offset(x=0.0, y=0.0, z=0.0)\n",
    "p300.move_to(liquids_reservoir['A1'].top())"
   ]
  },
  {
   "cell_type": "code",
   "execution_count": 14,
   "metadata": {},
   "outputs": [
    {
     "data": {
      "text/plain": [
       "<InstrumentContext: p300_multi_v2.1 in RIGHT>"
      ]
     },
     "execution_count": 14,
     "metadata": {},
     "output_type": "execute_result"
    }
   ],
   "source": [
    "mag_plate.set_offset(x=0.0, y=0.9, z=0.7)\n",
    "p300.move_to(mag_plate['A1'].top())"
   ]
  },
  {
   "cell_type": "code",
   "execution_count": 16,
   "metadata": {},
   "outputs": [
    {
     "data": {
      "text/plain": [
       "<InstrumentContext: p300_multi_v2.1 in RIGHT>"
      ]
     },
     "execution_count": 16,
     "metadata": {},
     "output_type": "execute_result"
    }
   ],
   "source": [
    "plate_out.set_offset(x=0.5, y=0.5, z=0.3)\n",
    "p300.move_to(plate_out['A1'].top())"
   ]
  },
  {
   "cell_type": "code",
   "execution_count": null,
   "metadata": {},
   "outputs": [],
   "source": [
    "waste.set_offset(x=0.0, y=0.0, z=0.0)\n",
    "p300.move_to(waste['A1'].top())"
   ]
  },
  {
   "cell_type": "code",
   "execution_count": 17,
   "metadata": {},
   "outputs": [],
   "source": [
    "p300.return_tip()\n",
    "p300.reset_tipracks()"
   ]
  },
  {
   "cell_type": "markdown",
   "metadata": {},
   "source": [
    "## Protocol Execution\n",
    "### Add lysis and neutralization buffer\n",
    "- Centrifuge at max speed for 20 minutes when done"
   ]
  },
  {
   "cell_type": "code",
   "execution_count": 18,
   "metadata": {},
   "outputs": [
    {
     "name": "stdout",
     "output_type": "stream",
     "text": [
      "279.3387403488159 seconds wait started at 14:23:46\n"
     ]
    },
    {
     "data": {
      "text/plain": [
       "<InstrumentContext: p300_multi_v2.1 in RIGHT>"
      ]
     },
     "execution_count": 18,
     "metadata": {},
     "output_type": "execute_result"
    }
   ],
   "source": [
    "\n",
    "times = []\n",
    "protocol.comment('-- ADDING LYSIS BUFFER --')\n",
    "p300.pick_up_tip()\n",
    "for col in columns:\n",
    "    p300.aspirate(120, lysis_buff)\n",
    "    p300.dispense(120, col.top()))\n",
    "    p300.blow_out()\n",
    "    times.append({'column':col, 'time':time.time()})\n",
    "p300.drop_tip()\n",
    "\n",
    "remaining = 300 - (time.time() - times[0]['time'])\n",
    "print(remaining, 'seconds wait started at', time.strftime(\"%H:%M:%S\", time.localtime()))\n",
    "protocol.delay(seconds = remaining)\n",
    "\n",
    "protocol.comment('-- ADDING REMAINING NEUTRALIZATION BUFFER --')\n",
    "p300.pick_up_tip()\n",
    "for remain in times:\n",
    "    col = remain['column']\n",
    "    p300.aspirate(240, neut_buff)\n",
    "    p300.dispense(240, col.top())\n",
    "    p300.blow_out()\n",
    "p300.drop_tip()"
   ]
  },
  {
   "cell_type": "markdown",
   "metadata": {},
   "source": [
    "### Add supernatant and ethanol to beads\n",
    "- Aspirate slowly and a bit higher to avoid cell debris\n",
    "- After this step, incubate at room temperature for 20 minutes, vortexing briefly after every 4 minutes "
   ]
  },
  {
   "cell_type": "code",
   "execution_count": 19,
   "metadata": {},
   "outputs": [],
   "source": [
    "protocol.comment('-- ADDING SAMPLES AND EHTANOL TO MAG PLATE --')\n",
    "\n",
    "p300.pick_up_tip()\n",
    "for col in columns:\n",
    "    p300.aspirate(200, ethanol)\n",
    "    p300.dispense(200, mag_plate[col.well_name].top())\n",
    "    p300.blow_out()\n",
    "p300.drop_tip()\n",
    "\n",
    "for col in columns:\n",
    "    p300.pick_up_tip()\n",
    "    p300.aspirate(300, col.bottom(z=3.0), rate=0.2)\n",
    "    p300.dispense(300, mag_plate[col.well_name])\n",
    "    p300.mix(5, 250, mag_plate[col.well_name], rate=3.0)\n",
    "    p300.drop_tip()"
   ]
  },
  {
   "cell_type": "markdown",
   "metadata": {},
   "source": [
    "### Remove supernatant from beads"
   ]
  },
  {
   "cell_type": "code",
   "execution_count": 20,
   "metadata": {},
   "outputs": [
    {
     "name": "stdout",
     "output_type": "stream",
     "text": [
      "2 minutes wait started at 16:02:10\n"
     ]
    }
   ],
   "source": [
    "mag_module.engage(12)\n",
    "print('2 minutes wait started at', time.strftime(\"%H:%M:%S\", time.localtime()))\n",
    "protocol.delay(minutes = 2)\n",
    "\n",
    "# Pick up supernatant slowly to avoid getting beads\n",
    "for col in columns:\n",
    "    p300.pick_up_tip()\n",
    "    p300.aspirate(300, mag_plate[col.well_name], rate=0.2)\n",
    "    p300.dispense(300, waste['A1'].top())\n",
    "    p300.blow_out(waste['A1'].top())\n",
    "    p300.aspirate(300, mag_plate[col.well_name], rate=0.2)\n",
    "    p300.dispense(300, waste['A1'].top())\n",
    "    p300.blow_out(waste['A1'].top())\n",
    "    p300.drop_tip()\n",
    "mag_module.disengage()"
   ]
  },
  {
   "cell_type": "markdown",
   "metadata": {},
   "source": [
    "### Add wash buffer\n",
    "- After this step, incubate at room temperature for 10 minutes, vortexing briefly after every 2 minutes"
   ]
  },
  {
   "cell_type": "code",
   "execution_count": 21,
   "metadata": {},
   "outputs": [
    {
     "data": {
      "text/plain": [
       "<InstrumentContext: p300_multi_v2.1 in RIGHT>"
      ]
     },
     "execution_count": 21,
     "metadata": {},
     "output_type": "execute_result"
    }
   ],
   "source": [
    "p300.pick_up_tip()\n",
    "for col in columns:\n",
    "    p300.aspirate(300, wash_buff)\n",
    "    p300.dispense(300, mag_plate[col.well_name].top())\n",
    "    p300.blow_out()\n",
    "p300.drop_tip()"
   ]
  },
  {
   "cell_type": "markdown",
   "metadata": {},
   "source": [
    "### Remove wash buffer\n",
    "- After this step, dry plate at 65°C for 20 minutes"
   ]
  },
  {
   "cell_type": "code",
   "execution_count": 22,
   "metadata": {},
   "outputs": [
    {
     "name": "stdout",
     "output_type": "stream",
     "text": [
      "2 minutes wait started at 16:07:12\n"
     ]
    }
   ],
   "source": [
    "mag_module.engage(12)\n",
    "print('2 minutes wait started at', time.strftime(\"%H:%M:%S\", time.localtime()))\n",
    "protocol.delay(minutes = 2)\n",
    "\n",
    "# Pick up supernatant slowly to avoid getting beads\n",
    "for col in columns:\n",
    "    p300.pick_up_tip()\n",
    "    p300.aspirate(300, mag_plate[col.well_name], rate=0.2)\n",
    "    p300.dispense(300, waste['A1'].top())\n",
    "    p300.blow_out(waste['A1'].top())\n",
    "    p300.drop_tip()\n",
    "mag_module.disengage()"
   ]
  },
  {
   "cell_type": "markdown",
   "metadata": {},
   "source": [
    "### Add elution buffer\n",
    "- After this step, incubate at room temperature for 10 minutes, vortexing briefly every 2 minutes"
   ]
  },
  {
   "cell_type": "code",
   "execution_count": 23,
   "metadata": {},
   "outputs": [
    {
     "data": {
      "text/plain": [
       "<InstrumentContext: p300_multi_v2.1 in RIGHT>"
      ]
     },
     "execution_count": 23,
     "metadata": {},
     "output_type": "execute_result"
    }
   ],
   "source": [
    "p300.pick_up_tip()\n",
    "for col in columns:\n",
    "    p300.aspirate(100, elut_buff)\n",
    "    p300.dispense(100, mag_plate[col.well_name].top())\n",
    "    p300.blow_out()\n",
    "p300.drop_tip()"
   ]
  },
  {
   "cell_type": "markdown",
   "metadata": {},
   "source": [
    "### Transfer elution to output plate"
   ]
  },
  {
   "cell_type": "code",
   "execution_count": 24,
   "metadata": {},
   "outputs": [
    {
     "name": "stdout",
     "output_type": "stream",
     "text": [
      "2 minutes wait started at 16:11:38\n"
     ]
    }
   ],
   "source": [
    "mag_module.engage(12)\n",
    "print('2 minutes wait started at', time.strftime(\"%H:%M:%S\", time.localtime()))\n",
    "protocol.delay(minutes=2)\n",
    "\n",
    "# Pick up supernatant slowly to avoid getting beads\n",
    "for col in columns:\n",
    "    p300.pick_up_tip()\n",
    "    p300.aspirate(100, mag_plate[col.well_name], rate=0.2)\n",
    "    p300.dispense(100, plate_out[col.well_name])\n",
    "    p300.drop_tip()\n",
    "\n",
    "mag_module.disengage()"
   ]
  },
  {
   "cell_type": "code",
   "execution_count": 25,
   "metadata": {},
   "outputs": [
    {
     "name": "stderr",
     "output_type": "stream",
     "text": [
      "Out of bounds move: X=(418.00000000000006 motor controller, 418.54571439077444 deck) too high for limit 418.0\n",
      "Out of bounds move: X=(418.00000000000006 motor controller, 418.54571439077444 deck) too high for limit 418.0\n"
     ]
    }
   ],
   "source": [
    "protocol.home()"
   ]
  },
  {
   "cell_type": "code",
   "execution_count": null,
   "metadata": {},
   "outputs": [],
   "source": [
    "protocol.commands()"
   ]
  },
  {
   "cell_type": "code",
   "execution_count": null,
   "metadata": {},
   "outputs": [],
   "source": []
  }
 ],
 "metadata": {
  "kernelspec": {
   "display_name": "Python 3 (ipykernel)",
   "language": "python",
   "name": "python3"
  },
  "language_info": {
   "codemirror_mode": {
    "name": "ipython",
    "version": 3
   },
   "file_extension": ".py",
   "mimetype": "text/x-python",
   "name": "python",
   "nbconvert_exporter": "python",
   "pygments_lexer": "ipython3",
   "version": "3.11.3"
  }
 },
 "nbformat": 4,
 "nbformat_minor": 2
}
