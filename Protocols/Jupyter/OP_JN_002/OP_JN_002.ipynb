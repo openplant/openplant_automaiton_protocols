{
 "cells": [
  {
   "cell_type": "markdown",
   "metadata": {},
   "source": [
    "# DNA extraction of  96-well cultures with magnetic beads\n",
    "\n",
    "## Protocol Initialization\n",
    "Ensure you have calibrated the pipettes before doing this protocol"
   ]
  },
  {
   "cell_type": "code",
   "execution_count": null,
   "metadata": {},
   "outputs": [],
   "source": [
    "from opentrons import execute, simulate\n",
    "import json\n",
    "import time"
   ]
  },
  {
   "cell_type": "markdown",
   "metadata": {},
   "source": [
    "Use one of the code lines below for simulation or execution mode:\n",
    "\n",
    "**Simulation mode**\n",
    "```\n",
    "protocol = simulate.get_protocol_api('2.13')\n",
    "```\n",
    "\n",
    "\n",
    "\n",
    "**Execution mode**\n",
    "```\n",
    "protocol = execute.get_protocol_api('2.13')\n",
    "```"
   ]
  },
  {
   "cell_type": "code",
   "execution_count": null,
   "metadata": {},
   "outputs": [],
   "source": [
    "protocol = simulate.get_protocol_api('2.12')"
   ]
  },
  {
   "cell_type": "code",
   "execution_count": null,
   "metadata": {},
   "outputs": [],
   "source": [
    "protocol.home()"
   ]
  },
  {
   "cell_type": "markdown",
   "metadata": {},
   "source": [
    "## Declaring Labware\n",
    "- **Right mount**: An 8-channel p300 pipette\n",
    "- **Slot 4**: 12-well reservoir with buffers (fill up to volume for required samples: max 96 samples)\n",
    "    - Well 1: Lysis buffer (Up to 12 mL)\n",
    "    - Well 2, 3: Neutralization buffer (Up to 15 mL each well)\n",
    "    - Well 4, 5: Wash buffer (Up to 15 mL each well)\n",
    "    - Well 6, 7: Ethanol (Up to 12 mL each well)\n",
    "    - Well 8: Elution Buffer (Up to 10mL)\n",
    "- **Slot 7**: 96-deepwell plate (square wells) with ressuspended bacterial cell pellets (in 120 uL ressuspension buffer)\n",
    "- **Slot 9**: Output plate in 96-well format\n",
    "- **Slot 10**: Magnetic module with 96-deepwell plate (square wells) with 100uL of magnetic beads\n",
    "- **Slot 11**: 1-well reservoir for buffer waste\n",
    "- **Slots 1, 2, 3, 5, 6**: Tipracks for p300\n",
    "\n",
    "Replace with appropriate labware codes in the cell below if needed\n",
    "If you need to use custom labware, use our [Jupyter Notebook protocols tutorial](https://openplant.github.io/openplant_automation_protocols/Tutorials/Jupyter%20Notebooks/)"
   ]
  },
  {
   "cell_type": "code",
   "execution_count": null,
   "metadata": {},
   "outputs": [],
   "source": [
    "# Set labware\n",
    "with open('custom_labware/eppendorf_96_wellplate_2ml_deep.json') as labware_file:\n",
    "    labware_def = json.load(labware_file)\n",
    "    plate_96 = protocol.load_labware_from_definition(labware_def, 7)\n",
    "\n",
    "plate_out = protocol.load_labware('biorad_96_wellplate_200ul_pcr', '9')\n",
    "\n",
    "waste = protocol.load_labware('nest_1_reservoir_195ml', '11')\n",
    "\n",
    "with open ('custom_labware/enzymax_12_reservoir_20ml.json') as labware_file:\n",
    "    labware_def = json.load(labware_file)\n",
    "    liquids_reservoir = protocol.load_labware_from_definition(labware_def, 4)\n",
    "    \n",
    "tipracks_300 = [protocol.load_labware('opentrons_96_tiprack_300ul', '1'),\n",
    "               protocol.load_labware('opentrons_96_tiprack_300ul', '2'),\n",
    "               protocol.load_labware('opentrons_96_tiprack_300ul', '3'),\n",
    "               protocol.load_labware('opentrons_96_tiprack_300ul', '5'),\n",
    "               protocol.load_labware('opentrons_96_tiprack_300ul', '6')]\n",
    "\n",
    "p300 = protocol.load_instrument('p300_multi_gen2', 'right', tip_racks=tipracks_300)\n",
    "\n",
    "mag_module = protocol.load_module(\"magnetic module\", '10')\n",
    "with open('custom_labware/eppendorf_96_wellplate_2ml_deep.json') as labware_file:\n",
    "    labware_def = json.load(labware_file)\n",
    "    mag_plate = mag_module.load_labware_from_definition(labware_def, 10)"
   ]
  },
  {
   "cell_type": "markdown",
   "metadata": {},
   "source": [
    "# Define the number of samples here\n",
    "- Run the next cell and fill out the prompts\n",
    "- You can use from 1 to 96 samples."
   ]
  },
  {
   "cell_type": "code",
   "execution_count": null,
   "metadata": {},
   "outputs": [],
   "source": [
    "sample_no = 16\n",
    "\n",
    "\n",
    "col_no = 1+(sample_no-1)//8\n",
    "columns = plate_96.rows()[0][:col_no]\n",
    "lysis_buff = liquids_reservoir['A1']\n",
    "neut_buff = [liquids_reservoir['A2'], liquids_reservoir['A3']]\n",
    "wash_buff = [liquids_reservoir['A4'], liquids_reservoir['A5']]\n",
    "ethanol = [liquids_reservoir['A6'], liquids_reservoir['A7']]\n",
    "elut_buff = liquids_reservoir['A8']"
   ]
  },
  {
   "cell_type": "markdown",
   "metadata": {},
   "source": [
    "## Labware Calibration\n",
    "\n",
    "Change the x, y, and z variables (**in mm**) in the \"set_offset\" functions and run each cell repeatedly until the positioning is correct for that piece of labware. You will have to use a \"dummy\" plate to calibrate the labware that is not on the deck yet (competent cells).\n",
    "\n",
    "### Tipracks:"
   ]
  },
  {
   "cell_type": "code",
   "execution_count": null,
   "metadata": {},
   "outputs": [],
   "source": [
    "protocol.comment('-- CALIBRATION --')"
   ]
  },
  {
   "cell_type": "code",
   "execution_count": null,
   "metadata": {},
   "outputs": [],
   "source": [
    "# Calibrate tiprack for p300. Re-run calibration cell with different numbers if needed\n",
    "tipracks_300[0].set_offset(x=0.7, y=0.4, z=0.)\n",
    "p300.move_to(tipracks_300[0]['A1'].top())"
   ]
  },
  {
   "cell_type": "code",
   "execution_count": null,
   "metadata": {},
   "outputs": [],
   "source": [
    "# Calibrate tiprack for p300. Re-run calibration cell with different numbers if needed\n",
    "tipracks_300[1].set_offset(x=0.7, y=0.6, z=0.)\n",
    "p300.move_to(tipracks_300[1]['A1'].top())"
   ]
  },
  {
   "cell_type": "markdown",
   "metadata": {},
   "source": [
    "### Plates/Racks:"
   ]
  },
  {
   "cell_type": "code",
   "execution_count": null,
   "metadata": {},
   "outputs": [],
   "source": [
    "p300.pick_up_tip()"
   ]
  },
  {
   "cell_type": "code",
   "execution_count": null,
   "metadata": {},
   "outputs": [],
   "source": [
    "# Calibrate remaining labware. Re-run calibration cells with different numbers if needed\n",
    "plate_96.set_offset(x=0.0, y=0.5, z=0.7)\n",
    "p300.move_to(plate_96['A1'].top())"
   ]
  },
  {
   "cell_type": "code",
   "execution_count": null,
   "metadata": {},
   "outputs": [],
   "source": [
    "liquids_reservoir.set_offset(x=0.0, y=0.0, z=0.0)\n",
    "p300.move_to(liquids_reservoir['A1'].top())"
   ]
  },
  {
   "cell_type": "code",
   "execution_count": null,
   "metadata": {},
   "outputs": [],
   "source": [
    "mag_plate.set_offset(x=0.0, y=0.9, z=0.7)\n",
    "p300.move_to(mag_plate['A1'].top())"
   ]
  },
  {
   "cell_type": "code",
   "execution_count": null,
   "metadata": {},
   "outputs": [],
   "source": [
    "plate_out.set_offset(x=0.5, y=0.5, z=0.3)\n",
    "p300.move_to(plate_out['A1'].top())"
   ]
  },
  {
   "cell_type": "code",
   "execution_count": null,
   "metadata": {},
   "outputs": [],
   "source": [
    "waste.set_offset(x=0.0, y=0.0, z=0.0)\n",
    "p300.move_to(waste['A1'].top())"
   ]
  },
  {
   "cell_type": "code",
   "execution_count": null,
   "metadata": {},
   "outputs": [],
   "source": [
    "p300.return_tip()\n",
    "p300.reset_tipracks()"
   ]
  },
  {
   "cell_type": "markdown",
   "metadata": {},
   "source": [
    "## Protocol Execution\n",
    "### Add lysis and neutralization buffer\n",
    "- Centrifuge at max speed for 20 minutes when done"
   ]
  },
  {
   "cell_type": "code",
   "execution_count": null,
   "metadata": {},
   "outputs": [],
   "source": [
    "times = []\n",
    "protocol.comment('-- ADDING LYSIS BUFFER --')\n",
    "p300.pick_up_tip()\n",
    "for col in columns:\n",
    "    p300.aspirate(120, lysis_buff)\n",
    "    p300.dispense(120, col.top())\n",
    "    p300.blow_out()\n",
    "    times.append({'column':col, 'time':time.time()})\n",
    "p300.drop_tip()\n",
    "\n",
    "remaining = 300 - (time.time() - times[0]['time'])\n",
    "print(remaining, 'seconds wait started at', time.strftime(\"%H:%M:%S\", time.localtime()))\n",
    "protocol.delay(seconds = remaining)\n",
    "\n",
    "protocol.comment('-- ADDING NEUTRALIZATION BUFFER --')\n",
    "\n",
    "buffer_left = 15000\n",
    "buff_well = 0\n",
    "\n",
    "p300.pick_up_tip()\n",
    "for remain in times:\n",
    "    col = remain['column']\n",
    "    p300.aspirate(240, neut_buff[buff_well])\n",
    "    p300.dispense(240, col.top())\n",
    "    p300.blow_out()\n",
    "    \n",
    "    buffer_left -= 240 * 8\n",
    "    if buffer_left <= 240 * 8:\n",
    "        buff_well += 1\n",
    "        buffer_left = 15000\n",
    "p300.drop_tip()"
   ]
  },
  {
   "cell_type": "markdown",
   "metadata": {},
   "source": [
    "### Add supernatant and ethanol to beads\n",
    "- Aspirate slowly and a bit higher to avoid cell debris\n",
    "- After this step, incubate at room temperature for 20 minutes, vortexing briefly after every 4 minutes "
   ]
  },
  {
   "cell_type": "code",
   "execution_count": null,
   "metadata": {},
   "outputs": [],
   "source": [
    "protocol.comment('-- ADDING SAMPLES AND EHTANOL TO MAG PLATE --')\n",
    "\n",
    "buffer_left = 12000\n",
    "buff_well = 0\n",
    "\n",
    "p300.pick_up_tip()\n",
    "for col in columns:\n",
    "    p300.aspirate(200, ethanol[buff_well])\n",
    "    p300.dispense(200, mag_plate[col.well_name].top())\n",
    "    p300.blow_out()\n",
    "    \n",
    "    buffer_left -= 200 * 8\n",
    "    if buffer_left <= 200 * 8:\n",
    "        buff_well += 1\n",
    "        buffer_left = 12000\n",
    "p300.drop_tip()\n",
    "\n",
    "for col in columns:\n",
    "    p300.pick_up_tip()\n",
    "    p300.aspirate(300, col.bottom(z=5.0), rate=0.2)\n",
    "    p300.dispense(300, mag_plate[col.well_name])\n",
    "    p300.mix(5, 250, mag_plate[col.well_name], rate=3.0)\n",
    "    p300.drop_tip()"
   ]
  },
  {
   "cell_type": "markdown",
   "metadata": {},
   "source": [
    "### Remove supernatant from beads"
   ]
  },
  {
   "cell_type": "code",
   "execution_count": null,
   "metadata": {},
   "outputs": [],
   "source": [
    "mag_module.engage(12)\n",
    "print('2 minutes wait started at', time.strftime(\"%H:%M:%S\", time.localtime()))\n",
    "protocol.delay(minutes = 2)\n",
    "\n",
    "# Pick up supernatant slowly to avoid getting beads\n",
    "for col in columns:\n",
    "    p300.pick_up_tip()\n",
    "    p300.aspirate(300, mag_plate[col.well_name].bottom(z=2.0), rate=0.2)\n",
    "    p300.dispense(300, waste['A1'].top())\n",
    "    p300.blow_out(waste['A1'].top())\n",
    "    p300.aspirate(300, mag_plate[col.well_name].bottom(z=2.0), rate=0.2)\n",
    "    p300.dispense(300, waste['A1'].top())\n",
    "    p300.blow_out(waste['A1'].top())\n",
    "    p300.drop_tip()\n",
    "mag_module.disengage()"
   ]
  },
  {
   "cell_type": "markdown",
   "metadata": {},
   "source": [
    "### Add wash buffer\n",
    "- After this step, incubate at room temperature for 10 minutes, vortexing briefly after every 2 minutes"
   ]
  },
  {
   "cell_type": "code",
   "execution_count": null,
   "metadata": {},
   "outputs": [],
   "source": [
    "buffer_left = 15000\n",
    "buff_well = 0\n",
    "\n",
    "p300.pick_up_tip()\n",
    "for col in columns:\n",
    "    p300.aspirate(300, wash_buff[buff_well])\n",
    "    p300.dispense(300, mag_plate[col.well_name].top())\n",
    "    p300.blow_out()\n",
    "    \n",
    "    buffer_left -= 300 * 8\n",
    "    if buffer_left <= 300 * 8:\n",
    "        buff_well += 1\n",
    "        buffer_left = 15000\n",
    "p300.drop_tip()"
   ]
  },
  {
   "cell_type": "markdown",
   "metadata": {},
   "source": [
    "### Remove wash buffer\n",
    "- After this step, dry plate at 65°C for 20 minutes"
   ]
  },
  {
   "cell_type": "code",
   "execution_count": null,
   "metadata": {},
   "outputs": [],
   "source": [
    "mag_module.engage(12)\n",
    "print('2 minutes wait started at', time.strftime(\"%H:%M:%S\", time.localtime()))\n",
    "protocol.delay(minutes = 2)\n",
    "\n",
    "# Pick up supernatant slowly to avoid getting beads\n",
    "for col in columns:\n",
    "    p300.pick_up_tip()\n",
    "    p300.aspirate(300, mag_plate[col.well_name].bottom(z=2.0), rate=0.2)\n",
    "    p300.dispense(300, waste['A1'].top())\n",
    "    p300.blow_out(waste['A1'].top())\n",
    "    p300.drop_tip()\n",
    "mag_module.disengage()"
   ]
  },
  {
   "cell_type": "markdown",
   "metadata": {},
   "source": [
    "### Add elution buffer\n",
    "- After this step, incubate at room temperature for 10 minutes, vortexing briefly every 2 minutes"
   ]
  },
  {
   "cell_type": "code",
   "execution_count": null,
   "metadata": {},
   "outputs": [],
   "source": [
    "p300.pick_up_tip()\n",
    "for col in columns:\n",
    "    p300.aspirate(100, elut_buff)\n",
    "    p300.dispense(100, mag_plate[col.well_name].top())\n",
    "    p300.blow_out()\n",
    "p300.drop_tip()"
   ]
  },
  {
   "cell_type": "markdown",
   "metadata": {},
   "source": [
    "### Transfer elution to output plate"
   ]
  },
  {
   "cell_type": "code",
   "execution_count": null,
   "metadata": {},
   "outputs": [],
   "source": [
    "mag_module.engage(12)\n",
    "print('2 minutes wait started at', time.strftime(\"%H:%M:%S\", time.localtime()))\n",
    "protocol.delay(minutes=2)\n",
    "\n",
    "# Pick up supernatant slowly to avoid getting beads\n",
    "for col in columns:\n",
    "    p300.pick_up_tip()\n",
    "    p300.aspirate(100, mag_plate[col.well_name].bottom(z=2.0), rate=0.2)\n",
    "    p300.dispense(100, plate_out[col.well_name])\n",
    "    p300.drop_tip()\n",
    "\n",
    "mag_module.disengage()"
   ]
  },
  {
   "cell_type": "code",
   "execution_count": null,
   "metadata": {},
   "outputs": [],
   "source": [
    "protocol.home()"
   ]
  },
  {
   "cell_type": "code",
   "execution_count": null,
   "metadata": {},
   "outputs": [],
   "source": [
    "protocol.commands()"
   ]
  },
  {
   "cell_type": "code",
   "execution_count": null,
   "metadata": {},
   "outputs": [],
   "source": []
  }
 ],
 "metadata": {
  "kernelspec": {
   "display_name": "Python310",
   "language": "python",
   "name": "python310"
  },
  "language_info": {
   "codemirror_mode": {
    "name": "ipython",
    "version": 3
   },
   "file_extension": ".py",
   "mimetype": "text/x-python",
   "name": "python",
   "nbconvert_exporter": "python",
   "pygments_lexer": "ipython3",
   "version": "3.10.11"
  }
 },
 "nbformat": 4,
 "nbformat_minor": 2
}
