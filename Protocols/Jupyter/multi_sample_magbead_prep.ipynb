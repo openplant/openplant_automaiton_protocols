{
 "cells": [
  {
   "cell_type": "code",
   "execution_count": 1,
   "metadata": {},
   "outputs": [],
   "source": [
    "# Import necessary packages\n",
    "import opentrons.execute\n",
    "import json"
   ]
  },
  {
   "cell_type": "code",
   "execution_count": 2,
   "metadata": {},
   "outputs": [
    {
     "name": "stderr",
     "output_type": "stream",
     "text": [
      "Failed to initialize character device, will not be able to control gpios (lights, button, smoothiekill, smoothie reset). Only one connection can be made to the gpios at a time. If you need to control gpios, first stop the robot server with systemctl stop opentrons-robot-server. Until you restart the server with systemctl start opentrons-robot-server, you will be unable to control the robot using the Opentrons app.\n"
     ]
    }
   ],
   "source": [
    "# Setup protocol and robot\n",
    "protocol = opentrons.execute.get_protocol_api('2.12')\n",
    "protocol.home()"
   ]
  },
  {
   "cell_type": "code",
   "execution_count": 3,
   "metadata": {},
   "outputs": [],
   "source": [
    "# Set labware\n",
    "with open('custom_labware/eppendorf_96_wellplate_2ml_deep.json') as labware_file:\n",
    "    labware_def = json.load(labware_file)\n",
    "    plate_96 = protocol.load_labware_from_definition(labware_def, 2)\n",
    "    plate_out = protocol.load_labware_from_definition(labware_def, 10)\n",
    "\n",
    "with open ('custom_labware/enzymax_12_reservoir_20ml.json') as labware_file:\n",
    "    labware_def = json.load(labware_file)\n",
    "    liquids_reservoir = protocol.load_labware_from_definition(labware_def, 5)\n",
    "    \n",
    "tiprack_1000 = protocol.load_labware('opentrons_96_tiprack_1000ul', '6')\n",
    "tiprack_300 = protocol.load_labware('opentrons_96_tiprack_300ul', '3')"
   ]
  },
  {
   "cell_type": "code",
   "execution_count": 4,
   "metadata": {},
   "outputs": [],
   "source": [
    "p1000 = protocol.load_instrument('p1000_single_gen2', 'left', tip_racks=[tiprack_1000])\n",
    "p300 = protocol.load_instrument('p300_single_gen2', 'right', tip_racks=[tiprack_300])"
   ]
  },
  {
   "cell_type": "code",
   "execution_count": 5,
   "metadata": {},
   "outputs": [
    {
     "name": "stderr",
     "output_type": "stream",
     "text": [
      "The labware definition for 1 does not define a default engagement height for use with the Magnetic Module; you must specify a height explicitly when calling engage().\n"
     ]
    }
   ],
   "source": [
    "mag_module = protocol.load_module(\"magnetic module\", '1')\n",
    "with open('custom_labware/eppendorf_96_wellplate_2ml_deep.json') as labware_file:\n",
    "    labware_def = json.load(labware_file)\n",
    "    mag_plate = mag_module.load_labware_from_definition(labware_def, 1)"
   ]
  },
  {
   "cell_type": "code",
   "execution_count": 6,
   "metadata": {},
   "outputs": [],
   "source": [
    "samples = [plate_96['E1'], plate_96['E2'], plate_96['E3']]\n",
    "lysis_buff = liquids_reservoir['A1']\n",
    "neut_buff = liquids_reservoir['A2']\n",
    "wash_buff = liquids_reservoir['A3']\n",
    "ethanol = liquids_reservoir['A4']\n",
    "elut_buff = liquids_reservoir['A5']\n",
    "waste = liquids_reservoir['A12']"
   ]
  },
  {
   "cell_type": "code",
   "execution_count": 7,
   "metadata": {},
   "outputs": [
    {
     "data": {
      "text/plain": [
       "<InstrumentContext: p1000_single_v2.1 in LEFT>"
      ]
     },
     "execution_count": 7,
     "metadata": {},
     "output_type": "execute_result"
    }
   ],
   "source": [
    "# Calibrate tiprack for p1000\n",
    "tiprack_1000.set_offset(x=-0.6, y=0.0, z=0.)\n",
    "p1000.move_to(tiprack_1000['A1'].top())"
   ]
  },
  {
   "cell_type": "code",
   "execution_count": 8,
   "metadata": {},
   "outputs": [
    {
     "data": {
      "text/plain": [
       "<InstrumentContext: p1000_single_v2.1 in LEFT>"
      ]
     },
     "execution_count": 8,
     "metadata": {},
     "output_type": "execute_result"
    }
   ],
   "source": [
    "p1000.pick_up_tip()"
   ]
  },
  {
   "cell_type": "code",
   "execution_count": 12,
   "metadata": {},
   "outputs": [
    {
     "data": {
      "text/plain": [
       "<InstrumentContext: p1000_single_v2.1 in LEFT>"
      ]
     },
     "execution_count": 12,
     "metadata": {},
     "output_type": "execute_result"
    }
   ],
   "source": [
    "# Calibrate remaining labware\n",
    "plate_96.set_offset(x=-1, y=0.5, z=0.)\n",
    "p1000.move_to(plate_96['A1'].top())"
   ]
  },
  {
   "cell_type": "code",
   "execution_count": 13,
   "metadata": {},
   "outputs": [
    {
     "data": {
      "text/plain": [
       "<InstrumentContext: p1000_single_v2.1 in LEFT>"
      ]
     },
     "execution_count": 13,
     "metadata": {},
     "output_type": "execute_result"
    }
   ],
   "source": [
    "liquids_reservoir.set_offset(x=0.0, y=0.0, z=0.3)\n",
    "p1000.move_to(liquids_reservoir['A1'].top())"
   ]
  },
  {
   "cell_type": "code",
   "execution_count": 16,
   "metadata": {},
   "outputs": [
    {
     "data": {
      "text/plain": [
       "<InstrumentContext: p1000_single_v2.1 in LEFT>"
      ]
     },
     "execution_count": 16,
     "metadata": {},
     "output_type": "execute_result"
    }
   ],
   "source": [
    "mag_plate.set_offset(x=-0.7, y=0.4, z=0.)\n",
    "p1000.move_to(mag_plate['A1'].top())"
   ]
  },
  {
   "cell_type": "code",
   "execution_count": 17,
   "metadata": {},
   "outputs": [
    {
     "data": {
      "text/plain": [
       "<InstrumentContext: p1000_single_v2.1 in LEFT>"
      ]
     },
     "execution_count": 17,
     "metadata": {},
     "output_type": "execute_result"
    }
   ],
   "source": [
    "p1000.return_tip()"
   ]
  },
  {
   "cell_type": "code",
   "execution_count": 18,
   "metadata": {},
   "outputs": [
    {
     "data": {
      "text/plain": [
       "<InstrumentContext: p300_single_v2.1 in RIGHT>"
      ]
     },
     "execution_count": 18,
     "metadata": {},
     "output_type": "execute_result"
    }
   ],
   "source": [
    "# Calibrate tiprack for p300\n",
    "tiprack_300.set_offset(x=0.2, y=0.1, z=0.)\n",
    "p300.move_to(tiprack_300['A1'].top())"
   ]
  },
  {
   "cell_type": "code",
   "execution_count": 20,
   "metadata": {},
   "outputs": [
    {
     "ename": "KeyboardInterrupt",
     "evalue": "",
     "output_type": "error",
     "traceback": [
      "\u001b[0;31m---------------------------------------------------------------------------\u001b[0m",
      "\u001b[0;31mKeyboardInterrupt\u001b[0m                         Traceback (most recent call last)",
      "\u001b[0;32m<ipython-input-20-4ed4e94e7fa3>\u001b[0m in \u001b[0;36m<module>\u001b[0;34m()\u001b[0m\n\u001b[1;32m      1\u001b[0m \u001b[0;32mfor\u001b[0m \u001b[0msample\u001b[0m \u001b[0;32min\u001b[0m \u001b[0msamples\u001b[0m\u001b[0;34m:\u001b[0m\u001b[0;34m\u001b[0m\u001b[0;34m\u001b[0m\u001b[0m\n\u001b[0;32m----> 2\u001b[0;31m     \u001b[0mp300\u001b[0m\u001b[0;34m.\u001b[0m\u001b[0mtransfer\u001b[0m\u001b[0;34m(\u001b[0m\u001b[0;36m120\u001b[0m\u001b[0;34m,\u001b[0m \u001b[0mlysis_buff\u001b[0m\u001b[0;34m,\u001b[0m \u001b[0msample\u001b[0m\u001b[0;34m,\u001b[0m \u001b[0mmix_after\u001b[0m \u001b[0;34m=\u001b[0m \u001b[0;34m(\u001b[0m\u001b[0;36m5\u001b[0m\u001b[0;34m,\u001b[0m \u001b[0;36m200\u001b[0m\u001b[0;34m)\u001b[0m\u001b[0;34m)\u001b[0m\u001b[0;34m\u001b[0m\u001b[0;34m\u001b[0m\u001b[0m\n\u001b[0m\u001b[1;32m      3\u001b[0m \u001b[0;34m\u001b[0m\u001b[0m\n\u001b[1;32m      4\u001b[0m \u001b[0mprotocol\u001b[0m\u001b[0;34m.\u001b[0m\u001b[0mdelay\u001b[0m\u001b[0;34m(\u001b[0m\u001b[0mminutes\u001b[0m \u001b[0;34m=\u001b[0m \u001b[0;36m4\u001b[0m\u001b[0;34m)\u001b[0m\u001b[0;34m\u001b[0m\u001b[0;34m\u001b[0m\u001b[0m\n\u001b[1;32m      5\u001b[0m \u001b[0;34m\u001b[0m\u001b[0m\n",
      "\u001b[0;32m/usr/lib/python3.7/site-packages/opentrons/commands/publisher.pyc\u001b[0m in \u001b[0;36m_decorated\u001b[0;34m(*args, **kwargs)\u001b[0m\n",
      "\u001b[0;32m/usr/lib/python3.7/site-packages/opentrons/protocols/api_support/util.pyc\u001b[0m in \u001b[0;36m_check_version_wrapper\u001b[0;34m(*args, **kwargs)\u001b[0m\n",
      "\u001b[0;32m/usr/lib/python3.7/site-packages/opentrons/protocol_api/instrument_context.pyc\u001b[0m in \u001b[0;36mtransfer\u001b[0;34m(self, volume, source, dest, trash, **kwargs)\u001b[0m\n",
      "\u001b[0;32m/usr/lib/python3.7/site-packages/opentrons/protocol_api/instrument_context.pyc\u001b[0m in \u001b[0;36m_execute_transfer\u001b[0;34m(self, plan)\u001b[0m\n",
      "\u001b[0;32m/usr/lib/python3.7/site-packages/opentrons/protocols/api_support/util.pyc\u001b[0m in \u001b[0;36m_check_version_wrapper\u001b[0;34m(*args, **kwargs)\u001b[0m\n",
      "\u001b[0;32m/usr/lib/python3.7/site-packages/opentrons/protocol_api/instrument_context.pyc\u001b[0m in \u001b[0;36mmix\u001b[0;34m(self, repetitions, volume, location, rate)\u001b[0m\n",
      "\u001b[0;32m/usr/lib/python3.7/site-packages/opentrons/protocols/api_support/util.pyc\u001b[0m in \u001b[0;36m_check_version_wrapper\u001b[0;34m(*args, **kwargs)\u001b[0m\n",
      "\u001b[0;32m/usr/lib/python3.7/site-packages/opentrons/protocol_api/instrument_context.pyc\u001b[0m in \u001b[0;36mdispense\u001b[0;34m(self, volume, location, rate)\u001b[0m\n",
      "\u001b[0;32m/usr/lib/python3.7/site-packages/opentrons/protocol_api/core/protocol_api/instrument_context.pyc\u001b[0m in \u001b[0;36mdispense\u001b[0;34m(self, volume, rate)\u001b[0m\n",
      "\u001b[0;32m/usr/lib/python3.7/site-packages/opentrons/hardware_control/adapters.pyc\u001b[0m in \u001b[0;36mcall_coroutine_sync\u001b[0;34m(loop, to_call, *args, **kwargs)\u001b[0m\n",
      "\u001b[0;32m/usr/lib/python3.7/concurrent/futures/_base.pyc\u001b[0m in \u001b[0;36mresult\u001b[0;34m(self, timeout)\u001b[0m\n",
      "\u001b[0;32m/usr/lib/python3.7/threading.pyc\u001b[0m in \u001b[0;36mwait\u001b[0;34m(self, timeout)\u001b[0m\n",
      "\u001b[0;31mKeyboardInterrupt\u001b[0m: "
     ]
    }
   ],
   "source": [
    "for sample in samples:\n",
    "    p300.transfer(120, lysis_buff, sample, mix_after = (5, 200))\n",
    "\n",
    "protocol.delay(minutes = 4)\n",
    "\n",
    "for sample in samples:\n",
    "    p300.transfer(240, neut_buff, sample, mix_after = (5, 250))\n",
    "\n",
    "# Centrifuge at max speed for 20 mins"
   ]
  },
  {
   "cell_type": "code",
   "execution_count": 23,
   "metadata": {},
   "outputs": [
    {
     "data": {
      "text/plain": [
       "<InstrumentContext: p1000_single_v2.1 in LEFT>"
      ]
     },
     "execution_count": 23,
     "metadata": {},
     "output_type": "execute_result"
    }
   ],
   "source": [
    "p1000.pick_up_tip()"
   ]
  },
  {
   "cell_type": "code",
   "execution_count": 26,
   "metadata": {},
   "outputs": [
    {
     "data": {
      "text/plain": [
       "<InstrumentContext: p1000_single_v2.1 in LEFT>"
      ]
     },
     "execution_count": 26,
     "metadata": {},
     "output_type": "execute_result"
    }
   ],
   "source": [
    "# Calibrate labware again after centrifugation\n",
    "plate_96.set_offset(x=-0.3, y=0.0, z=0.0) # might need to tweak height here\n",
    "p1000.move_to(plate_96['A1'].top())"
   ]
  },
  {
   "cell_type": "code",
   "execution_count": 27,
   "metadata": {},
   "outputs": [
    {
     "data": {
      "text/plain": [
       "<InstrumentContext: p1000_single_v2.1 in LEFT>"
      ]
     },
     "execution_count": 27,
     "metadata": {},
     "output_type": "execute_result"
    }
   ],
   "source": [
    "p1000.return_tip()"
   ]
  },
  {
   "cell_type": "code",
   "execution_count": 28,
   "metadata": {},
   "outputs": [],
   "source": [
    "# Aspirate slowly to avoid cell debris\n",
    "for sample in samples:\n",
    "    p1000.pick_up_tip()\n",
    "    p1000.aspirate(300, sample.bottom(z=3.0), rate=0.2)\n",
    "    p1000.dispense(300, mag_plate[sample.well_name])\n",
    "    p1000.drop_tip()"
   ]
  },
  {
   "cell_type": "code",
   "execution_count": 29,
   "metadata": {},
   "outputs": [],
   "source": [
    "for sample in samples:\n",
    "    p1000.transfer(300, ethanol, mag_plate[sample.well_name], mix_after = (5, 600))"
   ]
  },
  {
   "cell_type": "code",
   "execution_count": 30,
   "metadata": {},
   "outputs": [],
   "source": [
    "for i in range(4):\n",
    "    if i > 0:\n",
    "        protocol.delay(minutes = 3)\n",
    "    for sample in samples:\n",
    "        p1000.pick_up_tip()\n",
    "        p1000.flow_rate.dispense = 800\n",
    "        p1000.mix(5, 400, mag_plate[sample.well_name])\n",
    "        p1000.move_to(mag_plate[sample.well_name].top())\n",
    "        p1000.flow_rate.dispense = 300\n",
    "        p1000.blow_out()\n",
    "        p1000.drop_tip()\n",
    "# wait 4 mins. repeat 4x (mix-w4-mix-w4-mix-w4-mix-w4-mix)"
   ]
  },
  {
   "cell_type": "code",
   "execution_count": 31,
   "metadata": {},
   "outputs": [],
   "source": [
    "mag_module.engage(12)\n",
    "protocol.delay(minutes = 2)\n",
    "\n",
    "# Pick up supernatant slowly\n",
    "for sample in samples:\n",
    "    p1000.pick_up_tip()\n",
    "    p1000.aspirate(700, mag_plate[sample.well_name], rate=0.2)\n",
    "    p1000.dispense(700, waste)\n",
    "    p1000.drop_tip()\n",
    "mag_module.disengage()"
   ]
  },
  {
   "cell_type": "code",
   "execution_count": 32,
   "metadata": {},
   "outputs": [],
   "source": [
    "for sample in samples:\n",
    "    p1000.pick_up_tip()\n",
    "    p1000.aspirate(500, wash_buff)\n",
    "    p1000.dispense(500, mag_plate[sample.well_name])\n",
    "    p1000.flow_rate.dispense = 800\n",
    "    p1000.mix(5, 400, mag_plate[sample.well_name])\n",
    "    p1000.move_to(mag_plate[sample.well_name].top())\n",
    "    p1000.flow_rate.dispense = 300\n",
    "    p1000.blow_out()\n",
    "    p1000.drop_tip()"
   ]
  },
  {
   "cell_type": "code",
   "execution_count": 33,
   "metadata": {},
   "outputs": [],
   "source": [
    "mag_module.engage(12)\n",
    "protocol.delay(minutes = 2)\n",
    "\n",
    "# Pick up supernatant slowly\n",
    "for sample in samples:\n",
    "    p1000.pick_up_tip()\n",
    "    p1000.aspirate(500, mag_plate[sample.well_name], rate=0.2)\n",
    "    p1000.dispense(500, waste)\n",
    "    p1000.drop_tip()\n",
    "mag_module.disengage()\n",
    "# go dry at 65C for 20 mins"
   ]
  },
  {
   "cell_type": "code",
   "execution_count": 34,
   "metadata": {},
   "outputs": [
    {
     "data": {
      "text/plain": [
       "<InstrumentContext: p300_single_v2.1 in RIGHT>"
      ]
     },
     "execution_count": 34,
     "metadata": {},
     "output_type": "execute_result"
    }
   ],
   "source": [
    "p300.pick_up_tip()"
   ]
  },
  {
   "cell_type": "code",
   "execution_count": 38,
   "metadata": {},
   "outputs": [
    {
     "data": {
      "text/plain": [
       "<InstrumentContext: p300_single_v2.1 in RIGHT>"
      ]
     },
     "execution_count": 38,
     "metadata": {},
     "output_type": "execute_result"
    }
   ],
   "source": [
    "# Calibrate labware again\n",
    "mag_plate.set_offset(x=-0.9, y=0.8, z=0.)\n",
    "p300.move_to(mag_plate['A1'].top())"
   ]
  },
  {
   "cell_type": "code",
   "execution_count": 39,
   "metadata": {},
   "outputs": [
    {
     "data": {
      "text/plain": [
       "<InstrumentContext: p300_single_v2.1 in RIGHT>"
      ]
     },
     "execution_count": 39,
     "metadata": {},
     "output_type": "execute_result"
    }
   ],
   "source": [
    "p300.return_tip()"
   ]
  },
  {
   "cell_type": "code",
   "execution_count": 40,
   "metadata": {},
   "outputs": [],
   "source": [
    "for sample in samples:\n",
    "    p300.transfer(100, elut_buff, mag_plate[sample.well_name], mix_after=(5, 80))"
   ]
  },
  {
   "cell_type": "code",
   "execution_count": 41,
   "metadata": {},
   "outputs": [],
   "source": [
    "for i in range(4):\n",
    "    if i > 0:\n",
    "        protocol.delay(minutes = 1)\n",
    "    for sample in samples:\n",
    "        p300.pick_up_tip()\n",
    "        p300.flow_rate.dispense = 800\n",
    "        p300.mix(10, 80, mag_plate[sample.well_name])\n",
    "        p300.move_to(mag_plate[sample.well_name].top())\n",
    "        p300.flow_rate.dispense = 300\n",
    "        p300.blow_out()\n",
    "        p300.drop_tip()"
   ]
  },
  {
   "cell_type": "code",
   "execution_count": 42,
   "metadata": {},
   "outputs": [],
   "source": [
    "mag_module.engage(12)\n",
    "protocol.delay(minutes=2)\n",
    "\n",
    "# Pick up supernatant slowly\n",
    "for sample in samples:\n",
    "    p300.pick_up_tip()\n",
    "    p300.aspirate(100, mag_plate[sample.well_name], rate=0.2)\n",
    "    p300.dispense(100, plate_out[sample.well_name])\n",
    "    p300.drop_tip()\n",
    "\n",
    "mag_module.disengage()"
   ]
  },
  {
   "cell_type": "code",
   "execution_count": 43,
   "metadata": {},
   "outputs": [],
   "source": [
    "protocol.home()"
   ]
  },
  {
   "cell_type": "code",
   "execution_count": null,
   "metadata": {},
   "outputs": [],
   "source": []
  }
 ],
 "metadata": {
  "kernelspec": {
   "display_name": "Python 3",
   "language": "python",
   "name": "python3"
  },
  "language_info": {
   "codemirror_mode": {
    "name": "ipython",
    "version": 3
   },
   "file_extension": ".py",
   "mimetype": "text/x-python",
   "name": "python",
   "nbconvert_exporter": "python",
   "pygments_lexer": "ipython3",
   "version": "3.7.3"
  }
 },
 "nbformat": 4,
 "nbformat_minor": 2
}
