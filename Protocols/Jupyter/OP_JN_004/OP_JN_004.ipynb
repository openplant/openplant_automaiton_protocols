{
 "cells": [
  {
   "cell_type": "markdown",
   "id": "5e148248",
   "metadata": {},
   "source": [
    "# Transformation of plasmids in 96-well format (OT thermocycler version)\n",
    "\n",
    "## Protocol Initialization\n",
    "Ensure you have calibrated the pipettes before doing this protocol\n",
    "\n",
    "\n",
    "## Before you proceed\n",
    "This protocol requires the use of the thermocycler lid, which is not easily accessible through jupyter notebooks.\n",
    "\n",
    "To be able to access the lid, go to the notebook file system tab, then go to New > Terminal and run the command:\n",
    "\n",
    "```\n",
    "systemctl stop opentrons-robot-server\n",
    "```\n",
    "\n",
    "To re-connect the robot to the app, run:\n",
    "\n",
    "```\n",
    "systemctl start opentrons-robot-server\n",
    "```\n",
    "\n",
    "This will disconnect the robot from the opentrons app so that only this protocol is able to access it. This is also explained in our [Jupyter Notebook protocols tutorial](https://openplant.github.io/openplant_automation_protocols/Tutorials/Jupyter%20Notebooks/)"
   ]
  },
  {
   "cell_type": "code",
   "execution_count": null,
   "id": "11cdce66",
   "metadata": {},
   "outputs": [],
   "source": [
    "from opentrons import simulate, execute\n",
    "import json\n",
    "import time"
   ]
  },
  {
   "cell_type": "markdown",
   "id": "7b1a78fd",
   "metadata": {},
   "source": [
    "- When running the protocol with a robot, replace \"simulate\" below with \"execute\""
   ]
  },
  {
   "cell_type": "code",
   "execution_count": null,
   "id": "a5a26825",
   "metadata": {},
   "outputs": [],
   "source": [
    "protocol = simulate.get_protocol_api('2.13')\n",
    "protocol.home()"
   ]
  },
  {
   "cell_type": "markdown",
   "id": "c965ccd3",
   "metadata": {},
   "source": [
    "## Declaring Labware\n",
    "- **Left mount**: An 8-channel p20 pipette\n",
    "- **Right mount**: An 8-channel p300 pipette\n",
    "- **Slots 7, 8, 10, 11 (don't place the plate here yet)**: Competent cell plate on thermocycler module (96-well PCR plate)\n",
    "- **Slot 1**: DNA plate (96-well PCR plate)\n",
    "- **Slot 3**: 12-well reservoir for LB\n",
    "- **Slots 6 and 9**: Tipracks for both pipettes\n",
    "\n",
    "Replace with appropriate labware codes in the cell below if needed\n",
    "If you need to use custom labware, use our [Jupyter Notebook protocols tutorial](https://openplant.github.io/openplant_automation_protocols/Tutorials/Jupyter%20Notebooks/)"
   ]
  },
  {
   "cell_type": "code",
   "execution_count": null,
   "id": "f78d89c5",
   "metadata": {},
   "outputs": [],
   "source": [
    "dna_plate = protocol.load_labware('biorad_96_wellplate_200ul_pcr', '1')\n",
    "\n",
    "thermocycler = protocol.load_module('thermocycler module')\n",
    "cells_plate = thermocycler.load_labware('biorad_96_wellplate_200ul_pcr')\n",
    "\n",
    "# Here using 12-well reservoir for a max volume of 20mL.\n",
    "# Since a 96-well run would use almost 18mL, it might be advisable to use a 1-well reservoir \n",
    "with open('custom_labware/enzymax_12_reservoir_20ml.json') as labware_file:\n",
    "    labware_def = json.load(labware_file)\n",
    "    lb_res = protocol.load_labware_from_definition(labware_def, 3)\n",
    "\n",
    "tipracks_20 = [protocol.load_labware('opentrons_96_tiprack_20ul', '9')]\n",
    "tipracks_300 = [protocol.load_labware('opentrons_96_tiprack_300ul', '6')]  \n",
    "\n",
    "p20_8 = protocol.load_instrument('p20_multi_gen2', 'left', tip_racks=tipracks_20)\n",
    "p300_8 = protocol.load_instrument('p300_multi_gen2', 'right', tip_racks=tipracks_300)"
   ]
  },
  {
   "cell_type": "markdown",
   "id": "1a7a939f",
   "metadata": {},
   "source": [
    "# Define the number of samples here\n",
    "- Run the next cell and fill out the prompts\n",
    "- You can use from 1 to 96 samples. Do note that using non-multiples of 8 will still make the robot use a whole column of pipette tips."
   ]
  },
  {
   "cell_type": "code",
   "execution_count": null,
   "id": "454e0ec1",
   "metadata": {},
   "outputs": [],
   "source": [
    "samples_no = int(input(\"Number of samples: \"))\n",
    "final_volume = int(input(\"What volume do you want the cells to be in at the end? (in ul, max 200) \"))\n",
    "\n",
    "if samples_no - 1 in range(96):\n",
    "    columns_no = samples_no//8\n",
    "    if samples_no % 8 > 0:\n",
    "        columns_no += 1\n",
    "else:\n",
    "    samples_no = 0\n",
    "    print('Invalid number of samples')"
   ]
  },
  {
   "cell_type": "markdown",
   "id": "9495b5fe",
   "metadata": {},
   "source": [
    "## Labware Calibration\n",
    "\n",
    "Change the x, y, and z variables (**in mm**) in the \"set_offset\" functions and run each cell repeatedly until the positioning is correct for that piece of labware. You will have to use a \"dummy\" plate to calibrate the labware that is not on the deck yet (competent cells).\n",
    "\n",
    "### Tipracks:"
   ]
  },
  {
   "cell_type": "code",
   "execution_count": null,
   "id": "7bce4a28",
   "metadata": {},
   "outputs": [],
   "source": [
    "protocol.comment('--- CALIBRATION ---')"
   ]
  },
  {
   "cell_type": "code",
   "execution_count": null,
   "id": "b9ea61a0",
   "metadata": {},
   "outputs": [],
   "source": [
    "tipracks_20[0].set_offset(x=0.0,y=0.0,z=0.0)\n",
    "p20_8.move_to(tipracks_20[0]['A1'].top())"
   ]
  },
  {
   "cell_type": "code",
   "execution_count": null,
   "id": "d394184a",
   "metadata": {},
   "outputs": [],
   "source": [
    "tipracks_300[0].set_offset(x=0.0,y=0.0,z=0.0)\n",
    "p300_8.move_to(tipracks_300[0]['A1'].top())"
   ]
  },
  {
   "cell_type": "markdown",
   "id": "3f6217f3",
   "metadata": {},
   "source": [
    "### Plates/Racks:"
   ]
  },
  {
   "cell_type": "code",
   "execution_count": null,
   "id": "0e670d79",
   "metadata": {},
   "outputs": [],
   "source": [
    "p20_8.pick_up_tip()"
   ]
  },
  {
   "cell_type": "code",
   "execution_count": null,
   "id": "0fb4a297",
   "metadata": {},
   "outputs": [],
   "source": [
    "dna_plate.set_offset(x=0.0,y=0.0,z=0.0)\n",
    "p20_8.move_to(dna_plate['A1'].top())"
   ]
  },
  {
   "cell_type": "markdown",
   "id": "69ba49d5",
   "metadata": {},
   "source": [
    "- Use a dummy plate to calibrate the cell below"
   ]
  },
  {
   "cell_type": "code",
   "execution_count": null,
   "id": "79a5cc87",
   "metadata": {},
   "outputs": [],
   "source": [
    "cells_plate.set_offset(x=0.0,y=0.0,z=0.0)\n",
    "p20_8.move_to(cells_plate['A1'].top())"
   ]
  },
  {
   "cell_type": "code",
   "execution_count": null,
   "id": "abfafa1a",
   "metadata": {},
   "outputs": [],
   "source": [
    "lb_res.set_offset(x=0.0,y=0.0,z=0.0)\n",
    "p20_8.move_to(lb_res['A1'].top())"
   ]
  },
  {
   "cell_type": "code",
   "execution_count": null,
   "id": "f7efcdb4",
   "metadata": {},
   "outputs": [],
   "source": [
    "p20_8.return_tip()\n",
    "p20_8.reset_tipracks()"
   ]
  },
  {
   "cell_type": "markdown",
   "id": "ae71f695",
   "metadata": {},
   "source": [
    "## Protocol Execution\n",
    "Flash freeze and heat shock"
   ]
  },
  {
   "cell_type": "code",
   "execution_count": null,
   "id": "a9456031",
   "metadata": {},
   "outputs": [],
   "source": [
    "print(\"Setting temperature to 4°C\")\n",
    "thermocycler.set_block_temperature(temperature=4)\n",
    "print('Done')"
   ]
  },
  {
   "cell_type": "markdown",
   "id": "807b373c",
   "metadata": {},
   "source": [
    "- Place the plate with competent cells on the thermocycler block\n",
    "- Run the next cell immediately"
   ]
  },
  {
   "cell_type": "code",
   "execution_count": null,
   "id": "a7c132d9",
   "metadata": {},
   "outputs": [],
   "source": [
    "protocol.comment('--- TRANSFERRING DNA INTO COMPETENT CELLS ---')\n",
    "print(protocol.commands()[-1])\n",
    "print('10 minutes wait started at', time.strftime(\"%H:%M:%S\", time.localtime()))\n",
    "protocol.delay(minutes=10)\n",
    "for col in range(columns_no):\n",
    "    print('Transferring column', col + 1)\n",
    "    p20_8.pick_up_tip()\n",
    "    p20_8.aspirate(5, dna_plate.rows()[0][col])\n",
    "    p20_8.dispense(5, cells_plate.rows()[0][col].bottom(z=1.5))\n",
    "    p20_8.mix(3, 10, cells_plate.rows()[0][col])\n",
    "    p20_8.touch_tip()\n",
    "    p20_8.drop_tip()\n",
    "\n",
    "thermocycler.close_lid()\n",
    "print('20 minutes wait started at', time.strftime(\"%H:%M:%S\", time.localtime()))\n",
    "protocol.delay(minutes=20)\n",
    "thermocycler.set_block_temperature(temperature=42)\n",
    "protocol.delay(seconds=30)\n",
    "thermocycler.set_block_temperature(temperature=4)\n",
    "thermocycler.open_lid()\n",
    "    \n",
    "print(\"Done\")"
   ]
  },
  {
   "cell_type": "code",
   "execution_count": null,
   "id": "733bf848",
   "metadata": {},
   "outputs": [],
   "source": [
    "protocol.comment('--- TRANSFERRING LB INTO CELLS PLATE ---')\n",
    "print(protocol.commands()[-1])\n",
    "\n",
    "p300_8.pick_up_tip()\n",
    "for col in range(columns_no):\n",
    "    print('Transferring column', col + 1)\n",
    "    p300_8.aspirate(final_volume - 15, lb_res.rows()[0][0])\n",
    "    p300_8.dispense(final_volume - 15, cells_plate.rows()[0][col].top()) # I removed the touch tip here, and am dispensing from the top of the well to avoid contamination\n",
    "    p300_8.move_to(lb_res.rows()[0][0].top())\n",
    "    p300_8.blow_out()\n",
    "p300_8.drop_tip()\n",
    "print('Done')"
   ]
  },
  {
   "cell_type": "markdown",
   "id": "2b08ee97",
   "metadata": {},
   "source": [
    "- Place transformation plate in an incbator at 37°C for one hour\n",
    "- Prepare the deck and robot for the plating protocol"
   ]
  },
  {
   "cell_type": "code",
   "execution_count": null,
   "id": "bac7a7bb",
   "metadata": {},
   "outputs": [],
   "source": [
    "thermocycler.deactivate()\n",
    "protocol.home()"
   ]
  },
  {
   "cell_type": "code",
   "execution_count": null,
   "id": "e129e8c7",
   "metadata": {},
   "outputs": [],
   "source": [
    "protocol.commands()"
   ]
  }
 ],
 "metadata": {
  "kernelspec": {
   "display_name": "Python310",
   "language": "python",
   "name": "python310"
  },
  "language_info": {
   "codemirror_mode": {
    "name": "ipython",
    "version": 3
   },
   "file_extension": ".py",
   "mimetype": "text/x-python",
   "name": "python",
   "nbconvert_exporter": "python",
   "pygments_lexer": "ipython3",
   "version": "3.10.11"
  }
 },
 "nbformat": 4,
 "nbformat_minor": 5
}
