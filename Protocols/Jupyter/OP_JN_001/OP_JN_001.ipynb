{
 "cells": [
  {
   "cell_type": "markdown",
   "id": "a7c14bdb",
   "metadata": {},
   "source": [
    "# Glycerol stocks from 96-well cultures\n",
    "\n",
    "## Protocol Initialization\n",
    "Ensure you have calibrated the pipettes before doing this protocol"
   ]
  },
  {
   "cell_type": "code",
   "execution_count": 1,
   "id": "28780cfb",
   "metadata": {},
   "outputs": [],
   "source": [
    "from opentrons import simulate, execute\n",
    "import json"
   ]
  },
  {
   "cell_type": "markdown",
   "id": "a694782d",
   "metadata": {},
   "source": [
    "Use one of the code lines below for simulation or execution mode:\n",
    "\n",
    "**Simulation mode**\n",
    "```\n",
    "protocol = simulate.get_protocol_api('2.13')\n",
    "```\n",
    "\n",
    "\n",
    "\n",
    "**Execution mode**\n",
    "```\n",
    "protocol = execute.get_protocol_api('2.13')\n",
    "```"
   ]
  },
  {
   "cell_type": "code",
   "execution_count": 2,
   "id": "bd371f10",
   "metadata": {},
   "outputs": [
    {
     "name": "stderr",
     "output_type": "stream",
     "text": [
      "C:\\Users\\Felipe\\.opentrons\\robot_settings.json not found. Loading defaults\n",
      "C:\\Users\\Felipe\\.opentrons\\deck_calibration.json not found. Loading defaults\n"
     ]
    }
   ],
   "source": [
    "protocol = simulate.get_protocol_api('2.13')\n",
    "protocol.home()"
   ]
  },
  {
   "cell_type": "markdown",
   "id": "5ba00116",
   "metadata": {},
   "source": [
    "## Declaring Labware\n",
    "- **Right mount**: An 8-channel p300 pipette\n",
    "- **Slot 1**: Plate with bacterial cultures (96-deepwell, 0,5mL per well)\n",
    "- **Slot 4**: 1-well reservoir with 50% glycerol\n",
    "- **Slot 7**: Tiprack for p300\n",
    "- **Slot 2, 3, 5 and 6**: Destination plates \n",
    "\n",
    "Replace with appropriate labware codes in the cell below if needed\n",
    "If you need to use custom labware, use our [Jupyter Notebook protocols tutorial](https://openplant.github.io/openplant_automation_protocols/Tutorials/Jupyter%20Notebooks/)"
   ]
  },
  {
   "cell_type": "code",
   "execution_count": 3,
   "id": "93fa747b",
   "metadata": {},
   "outputs": [],
   "source": [
    "with open('custom_labware/eppendorf_96_wellplate_2ml_deep.json') as labware_file:\n",
    "    labware_def = json.load(labware_file)\n",
    "    culture_plate = protocol.load_labware_from_definition(labware_def, 1)\n",
    "\n",
    "destination_plates = [protocol.load_labware('biorad_96_wellplate_200ul_pcr', '2'),\n",
    "                      protocol.load_labware('biorad_96_wellplate_200ul_pcr', '3'),\n",
    "                      protocol.load_labware('biorad_96_wellplate_200ul_pcr', '5'),\n",
    "                      protocol.load_labware('biorad_96_wellplate_200ul_pcr', '6')]\n",
    "\n",
    "# Here using 12-well reservoir for a max volume of 20mL.\n",
    "# Since a 96-well run would use almost 18mL, it might be advisable to use a 1-well reservoir \n",
    "glyc_res = protocol.load_labware('nest_1_reservoir_195ml', '4')\n",
    "\n",
    "tipracks_300 = [protocol.load_labware('opentrons_96_tiprack_300ul', '7')]    \n",
    "\n",
    "p300_8 = protocol.load_instrument('p300_multi_gen2', 'right', tip_racks=tipracks_300)"
   ]
  },
  {
   "cell_type": "markdown",
   "id": "e9ac12ca",
   "metadata": {},
   "source": [
    "# Define the number of samples here\n",
    "- Run the next cell and fill out the prompts\n",
    "- You can use from 1 to 8 columns."
   ]
  },
  {
   "cell_type": "code",
   "execution_count": 4,
   "id": "11805c83",
   "metadata": {},
   "outputs": [
    {
     "name": "stdout",
     "output_type": "stream",
     "text": [
      "Number of columns: 5\n"
     ]
    }
   ],
   "source": [
    "cols_no = int(input(\"Number of columns: \"))\n",
    "\n",
    "if not cols_no - 1 in range(8):\n",
    "    cols_no = 0\n",
    "    print('Invalid number of samples')"
   ]
  },
  {
   "cell_type": "markdown",
   "id": "f4892007",
   "metadata": {},
   "source": [
    "## Labware Calibration\n",
    "\n",
    "Change the x, y, and z variables (**in mm**) in the \"set_offset\" functions and run each cell repeatedly until the positioning is correct for that piece of labware. You will have to use a \"dummy\" plate to calibrate the labware that is not on the deck yet (competent cells).\n",
    "\n",
    "### Tipracks:"
   ]
  },
  {
   "cell_type": "code",
   "execution_count": 5,
   "id": "c9ce3f0e",
   "metadata": {},
   "outputs": [],
   "source": [
    "protocol.comment('--- CALIBRATION ---')"
   ]
  },
  {
   "cell_type": "code",
   "execution_count": 6,
   "id": "af6df3bb",
   "metadata": {},
   "outputs": [
    {
     "data": {
      "text/plain": [
       "<InstrumentContext: p300_multi_v2.0 in RIGHT>"
      ]
     },
     "execution_count": 6,
     "metadata": {},
     "output_type": "execute_result"
    }
   ],
   "source": [
    "tipracks_300[0].set_offset(x=0.0,y=0.0,z=0.0)\n",
    "p300_8.move_to(tipracks_300[0]['A1'].top())"
   ]
  },
  {
   "cell_type": "markdown",
   "id": "e9c09ab8",
   "metadata": {},
   "source": [
    "### Plates/Racks:"
   ]
  },
  {
   "cell_type": "code",
   "execution_count": 7,
   "id": "e8db9049",
   "metadata": {},
   "outputs": [
    {
     "data": {
      "text/plain": [
       "<InstrumentContext: p300_multi_v2.0 in RIGHT>"
      ]
     },
     "execution_count": 7,
     "metadata": {},
     "output_type": "execute_result"
    }
   ],
   "source": [
    "p300_8.pick_up_tip()"
   ]
  },
  {
   "cell_type": "code",
   "execution_count": 8,
   "id": "30905662",
   "metadata": {},
   "outputs": [
    {
     "data": {
      "text/plain": [
       "<InstrumentContext: p300_multi_v2.0 in RIGHT>"
      ]
     },
     "execution_count": 8,
     "metadata": {},
     "output_type": "execute_result"
    }
   ],
   "source": [
    "culture_plate.set_offset(x=0.0,y=0.0,z=0.0)\n",
    "p300_8.move_to(culture_plate['A1'].top())"
   ]
  },
  {
   "cell_type": "code",
   "execution_count": 9,
   "id": "591643c0",
   "metadata": {},
   "outputs": [
    {
     "data": {
      "text/plain": [
       "<InstrumentContext: p300_multi_v2.0 in RIGHT>"
      ]
     },
     "execution_count": 9,
     "metadata": {},
     "output_type": "execute_result"
    }
   ],
   "source": [
    "destination_plates[0].set_offset(x=0.0,y=0.0,z=0.0)\n",
    "p300_8.move_to(destination_plates[0]['A1'].top())"
   ]
  },
  {
   "cell_type": "code",
   "execution_count": 10,
   "id": "b5a88e5a",
   "metadata": {},
   "outputs": [
    {
     "data": {
      "text/plain": [
       "<InstrumentContext: p300_multi_v2.0 in RIGHT>"
      ]
     },
     "execution_count": 10,
     "metadata": {},
     "output_type": "execute_result"
    }
   ],
   "source": [
    "destination_plates[1].set_offset(x=0.0,y=0.0,z=0.0)\n",
    "p300_8.move_to(destination_plates[1]['A1'].top())"
   ]
  },
  {
   "cell_type": "code",
   "execution_count": 11,
   "id": "081cd6b1",
   "metadata": {},
   "outputs": [
    {
     "data": {
      "text/plain": [
       "<InstrumentContext: p300_multi_v2.0 in RIGHT>"
      ]
     },
     "execution_count": 11,
     "metadata": {},
     "output_type": "execute_result"
    }
   ],
   "source": [
    "destination_plates[2].set_offset(x=0.0,y=0.0,z=0.0)\n",
    "p300_8.move_to(destination_plates[2]['A1'].top())"
   ]
  },
  {
   "cell_type": "code",
   "execution_count": 12,
   "id": "5b9903aa",
   "metadata": {},
   "outputs": [
    {
     "data": {
      "text/plain": [
       "<InstrumentContext: p300_multi_v2.0 in RIGHT>"
      ]
     },
     "execution_count": 12,
     "metadata": {},
     "output_type": "execute_result"
    }
   ],
   "source": [
    "destination_plates[3].set_offset(x=0.0,y=0.0,z=0.0)\n",
    "p300_8.move_to(destination_plates[3]['A1'].top())"
   ]
  },
  {
   "cell_type": "code",
   "execution_count": 13,
   "id": "a0d0ae2a",
   "metadata": {},
   "outputs": [
    {
     "data": {
      "text/plain": [
       "<InstrumentContext: p300_multi_v2.0 in RIGHT>"
      ]
     },
     "execution_count": 13,
     "metadata": {},
     "output_type": "execute_result"
    }
   ],
   "source": [
    "glyc_res.set_offset(x=0.0,y=0.0,z=0.0)\n",
    "p300_8.move_to(glyc_res['A1'].top())"
   ]
  },
  {
   "cell_type": "code",
   "execution_count": 14,
   "id": "ac71f483",
   "metadata": {},
   "outputs": [],
   "source": [
    "p300_8.return_tip()\n",
    "p300_8.reset_tipracks()"
   ]
  },
  {
   "cell_type": "markdown",
   "id": "ad9ac26f",
   "metadata": {},
   "source": [
    "## Protocol Execution\n",
    "- Get glycerol, mix, and distribute to destination wells"
   ]
  },
  {
   "cell_type": "code",
   "execution_count": 15,
   "id": "16be14a3",
   "metadata": {},
   "outputs": [],
   "source": [
    "for col in range(cols_no):\n",
    "    p300_8.pick_up_tip()\n",
    "    \n",
    "    p300_8.aspirate(200, glyc_res['A1'])\n",
    "    protocol.delay(seconds = 2)\n",
    "    p300_8.dispense(200, culture_plate.rows()[0][col].top())\n",
    "    \n",
    "    #2nd go if using 1mL\n",
    "    p300_8.aspirate(200, glyc_res['A1'])\n",
    "    protocol.delay(seconds = 3)\n",
    "    p300_8.dispense(200, culture_plate.rows()[0][col].top())\n",
    "    \n",
    "    p300_8.mix(3, 300, culture_plate.rows()[0][col])\n",
    "    \n",
    "    p300_8.aspirate(300, culture_plate.rows()[0][col])\n",
    "    for plate in destination_plates:\n",
    "        p300_8.dispense(75, plate.rows()[0][col].center())\n",
    "        p300_8.touch_tip()\n",
    "    p300_8.drop_tip()"
   ]
  },
  {
   "cell_type": "code",
   "execution_count": 16,
   "id": "bd1d8df1",
   "metadata": {},
   "outputs": [],
   "source": [
    "protocol.home()"
   ]
  },
  {
   "cell_type": "code",
   "execution_count": 17,
   "id": "990d7e4a",
   "metadata": {},
   "outputs": [
    {
     "data": {
      "text/plain": [
       "['--- CALIBRATION ---',\n",
       " 'Moving to A1 of Opentrons 96 Tip Rack 300 µL on 7',\n",
       " 'Picking up tip from A1 of Opentrons 96 Tip Rack 300 µL on 7',\n",
       " 'Moving to A1 of Bio-Rad 96 Well Plate 200 µL PCR on 1',\n",
       " 'Moving to A1 of Bio-Rad 96 Well Plate 200 µL PCR on 2',\n",
       " 'Moving to A1 of Bio-Rad 96 Well Plate 200 µL PCR on 3',\n",
       " 'Moving to A1 of Bio-Rad 96 Well Plate 200 µL PCR on 5',\n",
       " 'Moving to A1 of Bio-Rad 96 Well Plate 200 µL PCR on 6',\n",
       " 'Moving to A1 of NEST 1 Well Reservoir 195 mL on 4',\n",
       " 'Returning tip',\n",
       " 'Dropping tip into A1 of Opentrons 96 Tip Rack 300 µL on 7',\n",
       " 'Picking up tip from A1 of Opentrons 96 Tip Rack 300 µL on 7',\n",
       " 'Aspirating 200.0 uL from A1 of NEST 1 Well Reservoir 195 mL on 4 at 94.0 uL/sec',\n",
       " 'Delaying for 0 minutes and 3.0 seconds',\n",
       " 'Dispensing 200.0 uL into A1 of Bio-Rad 96 Well Plate 200 µL PCR on 1 at 94.0 uL/sec',\n",
       " 'Aspirating 200.0 uL from A1 of NEST 1 Well Reservoir 195 mL on 4 at 94.0 uL/sec',\n",
       " 'Delaying for 0 minutes and 3.0 seconds',\n",
       " 'Dispensing 200.0 uL into A1 of Bio-Rad 96 Well Plate 200 µL PCR on 1 at 94.0 uL/sec',\n",
       " 'Mixing 3 times with a volume of 300.0 ul',\n",
       " 'Aspirating 300.0 uL from A1 of Bio-Rad 96 Well Plate 200 µL PCR on 1 at 94.0 uL/sec',\n",
       " 'Dispensing 300.0 uL into A1 of Bio-Rad 96 Well Plate 200 µL PCR on 1 at 94.0 uL/sec',\n",
       " 'Aspirating 300.0 uL from A1 of Bio-Rad 96 Well Plate 200 µL PCR on 1 at 94.0 uL/sec',\n",
       " 'Dispensing 300.0 uL into A1 of Bio-Rad 96 Well Plate 200 µL PCR on 1 at 94.0 uL/sec',\n",
       " 'Aspirating 300.0 uL from A1 of Bio-Rad 96 Well Plate 200 µL PCR on 1 at 94.0 uL/sec',\n",
       " 'Dispensing 300.0 uL into A1 of Bio-Rad 96 Well Plate 200 µL PCR on 1 at 94.0 uL/sec',\n",
       " 'Aspirating 300.0 uL from A1 of Bio-Rad 96 Well Plate 200 µL PCR on 1 at 94.0 uL/sec',\n",
       " 'Dispensing 75.0 uL into A1 of Bio-Rad 96 Well Plate 200 µL PCR on 2 at 94.0 uL/sec',\n",
       " 'Touching tip',\n",
       " 'Dispensing 75.0 uL into A1 of Bio-Rad 96 Well Plate 200 µL PCR on 3 at 94.0 uL/sec',\n",
       " 'Touching tip',\n",
       " 'Dispensing 75.0 uL into A1 of Bio-Rad 96 Well Plate 200 µL PCR on 5 at 94.0 uL/sec',\n",
       " 'Touching tip',\n",
       " 'Dispensing 75.0 uL into A1 of Bio-Rad 96 Well Plate 200 µL PCR on 6 at 94.0 uL/sec',\n",
       " 'Touching tip',\n",
       " 'Dropping tip into A1 of Opentrons Fixed Trash on 12',\n",
       " 'Picking up tip from A2 of Opentrons 96 Tip Rack 300 µL on 7',\n",
       " 'Aspirating 200.0 uL from A1 of NEST 1 Well Reservoir 195 mL on 4 at 94.0 uL/sec',\n",
       " 'Delaying for 0 minutes and 3.0 seconds',\n",
       " 'Dispensing 200.0 uL into A2 of Bio-Rad 96 Well Plate 200 µL PCR on 1 at 94.0 uL/sec',\n",
       " 'Aspirating 200.0 uL from A1 of NEST 1 Well Reservoir 195 mL on 4 at 94.0 uL/sec',\n",
       " 'Delaying for 0 minutes and 3.0 seconds',\n",
       " 'Dispensing 200.0 uL into A2 of Bio-Rad 96 Well Plate 200 µL PCR on 1 at 94.0 uL/sec',\n",
       " 'Mixing 3 times with a volume of 300.0 ul',\n",
       " 'Aspirating 300.0 uL from A2 of Bio-Rad 96 Well Plate 200 µL PCR on 1 at 94.0 uL/sec',\n",
       " 'Dispensing 300.0 uL into A2 of Bio-Rad 96 Well Plate 200 µL PCR on 1 at 94.0 uL/sec',\n",
       " 'Aspirating 300.0 uL from A2 of Bio-Rad 96 Well Plate 200 µL PCR on 1 at 94.0 uL/sec',\n",
       " 'Dispensing 300.0 uL into A2 of Bio-Rad 96 Well Plate 200 µL PCR on 1 at 94.0 uL/sec',\n",
       " 'Aspirating 300.0 uL from A2 of Bio-Rad 96 Well Plate 200 µL PCR on 1 at 94.0 uL/sec',\n",
       " 'Dispensing 300.0 uL into A2 of Bio-Rad 96 Well Plate 200 µL PCR on 1 at 94.0 uL/sec',\n",
       " 'Aspirating 300.0 uL from A2 of Bio-Rad 96 Well Plate 200 µL PCR on 1 at 94.0 uL/sec',\n",
       " 'Dispensing 75.0 uL into A2 of Bio-Rad 96 Well Plate 200 µL PCR on 2 at 94.0 uL/sec',\n",
       " 'Touching tip',\n",
       " 'Dispensing 75.0 uL into A2 of Bio-Rad 96 Well Plate 200 µL PCR on 3 at 94.0 uL/sec',\n",
       " 'Touching tip',\n",
       " 'Dispensing 75.0 uL into A2 of Bio-Rad 96 Well Plate 200 µL PCR on 5 at 94.0 uL/sec',\n",
       " 'Touching tip',\n",
       " 'Dispensing 75.0 uL into A2 of Bio-Rad 96 Well Plate 200 µL PCR on 6 at 94.0 uL/sec',\n",
       " 'Touching tip',\n",
       " 'Dropping tip into A1 of Opentrons Fixed Trash on 12',\n",
       " 'Picking up tip from A3 of Opentrons 96 Tip Rack 300 µL on 7',\n",
       " 'Aspirating 200.0 uL from A1 of NEST 1 Well Reservoir 195 mL on 4 at 94.0 uL/sec',\n",
       " 'Delaying for 0 minutes and 3.0 seconds',\n",
       " 'Dispensing 200.0 uL into A3 of Bio-Rad 96 Well Plate 200 µL PCR on 1 at 94.0 uL/sec',\n",
       " 'Aspirating 200.0 uL from A1 of NEST 1 Well Reservoir 195 mL on 4 at 94.0 uL/sec',\n",
       " 'Delaying for 0 minutes and 3.0 seconds',\n",
       " 'Dispensing 200.0 uL into A3 of Bio-Rad 96 Well Plate 200 µL PCR on 1 at 94.0 uL/sec',\n",
       " 'Mixing 3 times with a volume of 300.0 ul',\n",
       " 'Aspirating 300.0 uL from A3 of Bio-Rad 96 Well Plate 200 µL PCR on 1 at 94.0 uL/sec',\n",
       " 'Dispensing 300.0 uL into A3 of Bio-Rad 96 Well Plate 200 µL PCR on 1 at 94.0 uL/sec',\n",
       " 'Aspirating 300.0 uL from A3 of Bio-Rad 96 Well Plate 200 µL PCR on 1 at 94.0 uL/sec',\n",
       " 'Dispensing 300.0 uL into A3 of Bio-Rad 96 Well Plate 200 µL PCR on 1 at 94.0 uL/sec',\n",
       " 'Aspirating 300.0 uL from A3 of Bio-Rad 96 Well Plate 200 µL PCR on 1 at 94.0 uL/sec',\n",
       " 'Dispensing 300.0 uL into A3 of Bio-Rad 96 Well Plate 200 µL PCR on 1 at 94.0 uL/sec',\n",
       " 'Aspirating 300.0 uL from A3 of Bio-Rad 96 Well Plate 200 µL PCR on 1 at 94.0 uL/sec',\n",
       " 'Dispensing 75.0 uL into A3 of Bio-Rad 96 Well Plate 200 µL PCR on 2 at 94.0 uL/sec',\n",
       " 'Touching tip',\n",
       " 'Dispensing 75.0 uL into A3 of Bio-Rad 96 Well Plate 200 µL PCR on 3 at 94.0 uL/sec',\n",
       " 'Touching tip',\n",
       " 'Dispensing 75.0 uL into A3 of Bio-Rad 96 Well Plate 200 µL PCR on 5 at 94.0 uL/sec',\n",
       " 'Touching tip',\n",
       " 'Dispensing 75.0 uL into A3 of Bio-Rad 96 Well Plate 200 µL PCR on 6 at 94.0 uL/sec',\n",
       " 'Touching tip',\n",
       " 'Dropping tip into A1 of Opentrons Fixed Trash on 12',\n",
       " 'Picking up tip from A4 of Opentrons 96 Tip Rack 300 µL on 7',\n",
       " 'Aspirating 200.0 uL from A1 of NEST 1 Well Reservoir 195 mL on 4 at 94.0 uL/sec',\n",
       " 'Delaying for 0 minutes and 3.0 seconds',\n",
       " 'Dispensing 200.0 uL into A4 of Bio-Rad 96 Well Plate 200 µL PCR on 1 at 94.0 uL/sec',\n",
       " 'Aspirating 200.0 uL from A1 of NEST 1 Well Reservoir 195 mL on 4 at 94.0 uL/sec',\n",
       " 'Delaying for 0 minutes and 3.0 seconds',\n",
       " 'Dispensing 200.0 uL into A4 of Bio-Rad 96 Well Plate 200 µL PCR on 1 at 94.0 uL/sec',\n",
       " 'Mixing 3 times with a volume of 300.0 ul',\n",
       " 'Aspirating 300.0 uL from A4 of Bio-Rad 96 Well Plate 200 µL PCR on 1 at 94.0 uL/sec',\n",
       " 'Dispensing 300.0 uL into A4 of Bio-Rad 96 Well Plate 200 µL PCR on 1 at 94.0 uL/sec',\n",
       " 'Aspirating 300.0 uL from A4 of Bio-Rad 96 Well Plate 200 µL PCR on 1 at 94.0 uL/sec',\n",
       " 'Dispensing 300.0 uL into A4 of Bio-Rad 96 Well Plate 200 µL PCR on 1 at 94.0 uL/sec',\n",
       " 'Aspirating 300.0 uL from A4 of Bio-Rad 96 Well Plate 200 µL PCR on 1 at 94.0 uL/sec',\n",
       " 'Dispensing 300.0 uL into A4 of Bio-Rad 96 Well Plate 200 µL PCR on 1 at 94.0 uL/sec',\n",
       " 'Aspirating 300.0 uL from A4 of Bio-Rad 96 Well Plate 200 µL PCR on 1 at 94.0 uL/sec',\n",
       " 'Dispensing 75.0 uL into A4 of Bio-Rad 96 Well Plate 200 µL PCR on 2 at 94.0 uL/sec',\n",
       " 'Touching tip',\n",
       " 'Dispensing 75.0 uL into A4 of Bio-Rad 96 Well Plate 200 µL PCR on 3 at 94.0 uL/sec',\n",
       " 'Touching tip',\n",
       " 'Dispensing 75.0 uL into A4 of Bio-Rad 96 Well Plate 200 µL PCR on 5 at 94.0 uL/sec',\n",
       " 'Touching tip',\n",
       " 'Dispensing 75.0 uL into A4 of Bio-Rad 96 Well Plate 200 µL PCR on 6 at 94.0 uL/sec',\n",
       " 'Touching tip',\n",
       " 'Dropping tip into A1 of Opentrons Fixed Trash on 12',\n",
       " 'Picking up tip from A5 of Opentrons 96 Tip Rack 300 µL on 7',\n",
       " 'Aspirating 200.0 uL from A1 of NEST 1 Well Reservoir 195 mL on 4 at 94.0 uL/sec',\n",
       " 'Delaying for 0 minutes and 3.0 seconds',\n",
       " 'Dispensing 200.0 uL into A5 of Bio-Rad 96 Well Plate 200 µL PCR on 1 at 94.0 uL/sec',\n",
       " 'Aspirating 200.0 uL from A1 of NEST 1 Well Reservoir 195 mL on 4 at 94.0 uL/sec',\n",
       " 'Delaying for 0 minutes and 3.0 seconds',\n",
       " 'Dispensing 200.0 uL into A5 of Bio-Rad 96 Well Plate 200 µL PCR on 1 at 94.0 uL/sec',\n",
       " 'Mixing 3 times with a volume of 300.0 ul',\n",
       " 'Aspirating 300.0 uL from A5 of Bio-Rad 96 Well Plate 200 µL PCR on 1 at 94.0 uL/sec',\n",
       " 'Dispensing 300.0 uL into A5 of Bio-Rad 96 Well Plate 200 µL PCR on 1 at 94.0 uL/sec',\n",
       " 'Aspirating 300.0 uL from A5 of Bio-Rad 96 Well Plate 200 µL PCR on 1 at 94.0 uL/sec',\n",
       " 'Dispensing 300.0 uL into A5 of Bio-Rad 96 Well Plate 200 µL PCR on 1 at 94.0 uL/sec',\n",
       " 'Aspirating 300.0 uL from A5 of Bio-Rad 96 Well Plate 200 µL PCR on 1 at 94.0 uL/sec',\n",
       " 'Dispensing 300.0 uL into A5 of Bio-Rad 96 Well Plate 200 µL PCR on 1 at 94.0 uL/sec',\n",
       " 'Aspirating 300.0 uL from A5 of Bio-Rad 96 Well Plate 200 µL PCR on 1 at 94.0 uL/sec',\n",
       " 'Dispensing 75.0 uL into A5 of Bio-Rad 96 Well Plate 200 µL PCR on 2 at 94.0 uL/sec',\n",
       " 'Touching tip',\n",
       " 'Dispensing 75.0 uL into A5 of Bio-Rad 96 Well Plate 200 µL PCR on 3 at 94.0 uL/sec',\n",
       " 'Touching tip',\n",
       " 'Dispensing 75.0 uL into A5 of Bio-Rad 96 Well Plate 200 µL PCR on 5 at 94.0 uL/sec',\n",
       " 'Touching tip',\n",
       " 'Dispensing 75.0 uL into A5 of Bio-Rad 96 Well Plate 200 µL PCR on 6 at 94.0 uL/sec',\n",
       " 'Touching tip',\n",
       " 'Dropping tip into A1 of Opentrons Fixed Trash on 12']"
      ]
     },
     "execution_count": 17,
     "metadata": {},
     "output_type": "execute_result"
    }
   ],
   "source": [
    "protocol.commands()"
   ]
  },
  {
   "cell_type": "code",
   "execution_count": null,
   "id": "987e1787",
   "metadata": {},
   "outputs": [],
   "source": []
  }
 ],
 "metadata": {
  "kernelspec": {
   "display_name": "Python310",
   "language": "python",
   "name": "python310"
  },
  "language_info": {
   "codemirror_mode": {
    "name": "ipython",
    "version": 3
   },
   "file_extension": ".py",
   "mimetype": "text/x-python",
   "name": "python",
   "nbconvert_exporter": "python",
   "pygments_lexer": "ipython3",
   "version": "3.10.11"
  }
 },
 "nbformat": 4,
 "nbformat_minor": 5
}
