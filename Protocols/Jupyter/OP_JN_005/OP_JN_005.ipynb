{
 "cells": [
  {
   "cell_type": "markdown",
   "id": "d200c92b",
   "metadata": {},
   "source": [
    "# Plating of cells from 96-well plates\n",
    "## Protocol Initialization\n",
    "Ensure you have calibrated the pipette before doing this protocol"
   ]
  },
  {
   "cell_type": "code",
   "execution_count": null,
   "id": "9e5ef361",
   "metadata": {},
   "outputs": [],
   "source": [
    "from opentrons import simulate, execute\n",
    "import json\n",
    "import time"
   ]
  },
  {
   "cell_type": "markdown",
   "id": "3edb0f14",
   "metadata": {},
   "source": [
    "When running the protocol with a robot, replace \"simulate\" below with \"execute\""
   ]
  },
  {
   "cell_type": "code",
   "execution_count": null,
   "id": "31dfbcaf",
   "metadata": {},
   "outputs": [],
   "source": [
    "protocol = simulate.get_protocol_api('2.12')\n",
    "protocol.home()"
   ]
  },
  {
   "cell_type": "markdown",
   "id": "1f807e08",
   "metadata": {},
   "source": [
    "## Declaring Labware\n",
    "- **Right mount**: A p300 pipette\n",
    "- **Slot 10**: A 96-well PCR plate with cells\n",
    "- **Slots 1 to 9**: 6-well plates up to the necessary number\n",
    "- **Slot 11**: Tiprack for the pipette\n",
    "\n",
    "Replace with appropriate labware codes in the cell below if needed\n",
    "If you need to use custom labware, use our [Jupyter Notebook protocols tutorial](https://openplant.github.io/openplant_automation_protocols/Tutorials/Jupyter%20Notebooks/)"
   ]
  },
  {
   "cell_type": "code",
   "execution_count": null,
   "id": "c0b809ae",
   "metadata": {},
   "outputs": [],
   "source": [
    "tipracks_300 = [protocol.load_labware('opentrons_96_tiprack_300ul', '11')]\n",
    "\n",
    "cells_plate = protocol.load_labware('biorad_96_wellplate_200ul_pcr', '10')\n",
    "media_plates = [protocol.load_labware('corning_6_wellplate_16.8ml_flat', str(num + 1)) for num in range(9)]\n",
    "\n",
    "p300 = protocol.load_instrument('p300_single_gen2', 'right', tip_racks=tipracks_300)"
   ]
  },
  {
   "cell_type": "markdown",
   "id": "5ac84278",
   "metadata": {},
   "source": [
    "# Define the number of samples here\n",
    "- Run the next cell and fill out the prompts\n",
    "- You can use from 1 to 96 samples"
   ]
  },
  {
   "cell_type": "code",
   "execution_count": null,
   "id": "3f00406a",
   "metadata": {},
   "outputs": [],
   "source": [
    "samples_no = int(input(\"Number of samples:\"))\n",
    "dispensing_volume = int(input(\"What volume to dispense in each plate well? (in uL, max 200)\"))\n",
    "print()\n",
    "changes = 0\n",
    "\n",
    "if samples_no - 1 in range(96):\n",
    "    print(samples_no, 'samples will require', samples_no//6, 'plates')\n",
    "    if samples_no > 54:\n",
    "        print('with one plate change')\n",
    "else:\n",
    "    samples_no = 0\n",
    "    print('Invalid number of samples')"
   ]
  },
  {
   "cell_type": "markdown",
   "id": "db626140",
   "metadata": {},
   "source": [
    "## Labware Calibration\n",
    "\n",
    "Change the x, y, and z variables in the \"set_offset\" functions and run each cell repeatedly until the positioning is correct for that piece of labware. You will have to use a \"dummy\" plate to calibrate the labware that is not on the deck yet (competent cells).\n",
    "\n",
    "### Tipracks:"
   ]
  },
  {
   "cell_type": "code",
   "execution_count": null,
   "id": "923ea006",
   "metadata": {},
   "outputs": [],
   "source": [
    "protocol.comment('--- CALIBRATION ---')"
   ]
  },
  {
   "cell_type": "code",
   "execution_count": null,
   "id": "5282de8b",
   "metadata": {},
   "outputs": [],
   "source": [
    "tipracks_300[0].set_offset(x=0.0,y=0.0,z=0.0)\n",
    "p300.move_to(tipracks_300[0]['A1'].top())"
   ]
  },
  {
   "cell_type": "markdown",
   "id": "0a92d495",
   "metadata": {},
   "source": [
    "### Plates/Racks:\n",
    "\n",
    "no calibration for the 6-well plates"
   ]
  },
  {
   "cell_type": "code",
   "execution_count": null,
   "id": "2a1264b3",
   "metadata": {},
   "outputs": [],
   "source": [
    "p300.pick_up_tip()"
   ]
  },
  {
   "cell_type": "code",
   "execution_count": null,
   "id": "d47b9437",
   "metadata": {},
   "outputs": [],
   "source": [
    "cells_plate.set_offset(x=0.0,y=0.0,z=0.0)\n",
    "p300.move_to(cells_plate['A1'].top())"
   ]
  },
  {
   "cell_type": "code",
   "execution_count": null,
   "id": "7bc2280b",
   "metadata": {},
   "outputs": [],
   "source": [
    "p300.return_tip()\n",
    "p300.reset_tipracks()"
   ]
  },
  {
   "cell_type": "markdown",
   "id": "2efc6c14",
   "metadata": {},
   "source": [
    "## Protocol Execution\n",
    "run only the cell below repeatedly, up to the necessary number of plate changes"
   ]
  },
  {
   "cell_type": "code",
   "execution_count": null,
   "id": "6e4f20b0",
   "metadata": {},
   "outputs": [],
   "source": [
    "protocol.comment('--- PLATING CELLS PASS N° '+ str(changes + 1) +' ---')\n",
    "for sample in range(samples_no):\n",
    "    protocol.comment('')\n",
    "    cur_plate = sample//6\n",
    "    print('Dispensing sample', sample+changes*54, 'on plate', cur_plate, end='\\r')\n",
    "    p300.pick_up_tip()\n",
    "    p300.aspirate(dispensing_volume, cells_plate.wells()[sample + 54 * changes])\n",
    "    p300.dispense(dispensing_volume, media_plates[cur_plate].wells()[sample % 6].top())\n",
    "    protocol.delay(seconds=2)\n",
    "    p300.blow_out()\n",
    "    p300.blow_out()\n",
    "    p300.drop_tip()\n",
    "    if sample == samples_no - 1:\n",
    "        print('\\nDone.')\n",
    "    elif sample == 53:\n",
    "        samples_no -= 54\n",
    "        changes += 1\n",
    "        print('Change plates then run this cell again')\n",
    "        break"
   ]
  },
  {
   "cell_type": "code",
   "execution_count": null,
   "id": "e123b421",
   "metadata": {},
   "outputs": [],
   "source": [
    "protocol.home()"
   ]
  },
  {
   "cell_type": "code",
   "execution_count": null,
   "id": "d5020c71",
   "metadata": {},
   "outputs": [],
   "source": [
    "protocol.commands()"
   ]
  }
 ],
 "metadata": {
  "kernelspec": {
   "display_name": "Python310",
   "language": "python",
   "name": "python310"
  },
  "language_info": {
   "codemirror_mode": {
    "name": "ipython",
    "version": 3
   },
   "file_extension": ".py",
   "mimetype": "text/x-python",
   "name": "python",
   "nbconvert_exporter": "python",
   "pygments_lexer": "ipython3",
   "version": "3.10.11"
  }
 },
 "nbformat": 4,
 "nbformat_minor": 5
}
